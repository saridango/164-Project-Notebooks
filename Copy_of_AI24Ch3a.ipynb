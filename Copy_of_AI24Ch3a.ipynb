{
  "nbformat": 4,
  "nbformat_minor": 0,
  "metadata": {
    "colab": {
      "provenance": [],
      "include_colab_link": true
    },
    "kernelspec": {
      "name": "python3",
      "display_name": "Python 3"
    }
  },
  "cells": [
    {
      "cell_type": "markdown",
      "metadata": {
        "id": "view-in-github",
        "colab_type": "text"
      },
      "source": [
        "<a href=\"https://colab.research.google.com/github/saridango/164-Project-Notebooks/blob/main/Copy_of_AI24Ch3a.ipynb\" target=\"_parent\"><img src=\"https://colab.research.google.com/assets/colab-badge.svg\" alt=\"Open In Colab\"/></a>"
      ]
    },
    {
      "cell_type": "markdown",
      "source": [
        "#Summary of Additions\n",
        "\n",
        "-- Generated 15 random problems in the 3x3 and 15 random problems in the 4x4  puzzles by generating:\n",
        "\n",
        "* 3: Random Walk 5 steps\n",
        "\n",
        "* 3: Random Walk 10 steps\n",
        "\n",
        "* 3: Random Walk 20 steps\n",
        "\n",
        "* 3: Random Walk 40 steps\n",
        "\n",
        "* 3: Random Walk 80 steps\n",
        "\n",
        "-- Evaluated results and explained what they can indicate about search as a tool for AI, especially as related to increase complexity in problem size.\n"
      ],
      "metadata": {
        "id": "bxUkAycu2DPF"
      }
    },
    {
      "cell_type": "code",
      "metadata": {
        "id": "Gbe5KqWcISTq"
      },
      "source": [
        "import random\n",
        "import heapq"
      ],
      "execution_count": 8,
      "outputs": []
    },
    {
      "cell_type": "markdown",
      "metadata": {
        "id": "PHnbnN2uV8zr"
      },
      "source": [
        "# Tile Sliding Domain: Initial State Space"
      ]
    },
    {
      "cell_type": "code",
      "metadata": {
        "id": "jPCNOa4W-5yq"
      },
      "source": [
        "StateDimension = 4  # Change from 3 to 4\n",
        "InitialState = [1, 2, 3, 4, 5, 6, 7, 8, 9, 10, 11, 12, 0, 13, 14, 15]\n",
        "GoalState = [1, 2, 3, 4, 5, 6, 7, 8, 9, 10, 11, 12, 13, 14, 15, 0]\n",
        "Actions = lambda s: ['u', 'd', 'l', 'r']\n",
        "Opposite=dict([('u','d'),('d','u'),('l','r'),('r','l'), (None, None)])"
      ],
      "execution_count": 60,
      "outputs": []
    },
    {
      "cell_type": "code",
      "metadata": {
        "id": "XjnzkkC8_HE8"
      },
      "source": [
        "def Result(state, action):\n",
        "  i = state.index(0)\n",
        "  newState = list(state)\n",
        "  row,col=i//StateDimension, i % StateDimension\n",
        "  if ( (action=='u' and row==0) or\n",
        "       (action=='d' and row==StateDimension-1) or\n",
        "       (action=='l' and col==0) or\n",
        "       (action=='r' and col==StateDimension-1)):\n",
        "      return newState\n",
        "  if action=='u':\n",
        "    l,r = row*StateDimension+col, (row-1)*StateDimension+col\n",
        "  elif action=='d':\n",
        "    l,r = row*StateDimension+col, (row+1)*StateDimension+col\n",
        "  elif action=='l':\n",
        "    l,r = row*StateDimension+col, row*StateDimension+col-1\n",
        "  elif action=='r' :\n",
        "    l,r = row*StateDimension+col, row*StateDimension+col+1\n",
        "  newState[l], newState[r] = newState[r], newState[l]\n",
        "  return newState\n",
        "\n",
        "def PrintState(s):\n",
        "  for i in range(0,len(s),StateDimension):\n",
        "    print(s[i:i+StateDimension])\n",
        "\n",
        "def LegalMove(state, action):\n",
        "  i = state.index(0)\n",
        "  row,col=i//StateDimension, i % StateDimension\n",
        "  newState = state.copy()\n",
        "  if ( (action=='u' and row==0) or\n",
        "       (action=='d' and row==StateDimension-1) or\n",
        "       (action=='l' and col==0) or\n",
        "       (action=='r' and col==StateDimension-1)):\n",
        "      return False\n",
        "  return True\n"
      ],
      "execution_count": 10,
      "outputs": []
    },
    {
      "cell_type": "code",
      "metadata": {
        "id": "4z6hE5HsNwHf"
      },
      "source": [
        "def SingleTileManhattanDistance(tile, left, right):\n",
        "  leftIndex = left.index(tile)\n",
        "  rightIndex = right.index(tile)\n",
        "  return (abs(leftIndex//StateDimension-rightIndex//StateDimension) +\n",
        "          abs(leftIndex%StateDimension-rightIndex%StateDimension))\n",
        "\n",
        "def ManhattanDistance(left, right):\n",
        "  distances = [SingleTileManhattanDistance(tile, left, right)\n",
        "     for tile in range(1, StateDimension**2)]\n",
        "  ### print (\"Distances= \", distances)\n",
        "  return sum(distances)\n"
      ],
      "execution_count": 65,
      "outputs": []
    },
    {
      "cell_type": "code",
      "metadata": {
        "id": "7PE_gAdLSY_z"
      },
      "source": [
        "def OutOfPlace(left, right):\n",
        "  distances = [left[i]!=right[i] and right[i] != 0\n",
        "     for i in range(StateDimension**2)]\n",
        "  return sum(distances)"
      ],
      "execution_count": 66,
      "outputs": []
    },
    {
      "cell_type": "code",
      "metadata": {
        "colab": {
          "base_uri": "https://localhost:8080/"
        },
        "id": "bE7MrTAI_t6i",
        "outputId": "194ae5bd-17c5-4d52-80fe-472070303578"
      },
      "source": [
        "PrintState(InitialState)"
      ],
      "execution_count": 67,
      "outputs": [
        {
          "output_type": "stream",
          "name": "stdout",
          "text": [
            "[1, 2, 3, 4]\n",
            "[5, 6, 7, 8]\n",
            "[9, 10, 11, 12]\n",
            "[0, 13, 14, 15]\n"
          ]
        }
      ]
    },
    {
      "cell_type": "code",
      "metadata": {
        "colab": {
          "base_uri": "https://localhost:8080/"
        },
        "id": "wRULKFeXVcp3",
        "outputId": "546d7ee2-efd8-4579-dab1-0df09949f715"
      },
      "source": [
        "PrintState(GoalState)"
      ],
      "execution_count": 68,
      "outputs": [
        {
          "output_type": "stream",
          "name": "stdout",
          "text": [
            "[1, 2, 3, 4]\n",
            "[5, 6, 7, 8]\n",
            "[9, 10, 11, 12]\n",
            "[13, 14, 15, 0]\n"
          ]
        }
      ]
    },
    {
      "cell_type": "code",
      "metadata": {
        "colab": {
          "base_uri": "https://localhost:8080/"
        },
        "id": "Ke12RA7cPaS9",
        "outputId": "2793b245-9951-4fe8-b544-fafa9817b5df"
      },
      "source": [
        "print(\"ManhattanDistance=  \", ManhattanDistance(InitialState, GoalState))\n",
        "print(\"OutOfPlace= \", OutOfPlace(InitialState, GoalState))\n"
      ],
      "execution_count": 69,
      "outputs": [
        {
          "output_type": "stream",
          "name": "stdout",
          "text": [
            "ManhattanDistance=   3\n",
            "OutOfPlace=  3\n"
          ]
        }
      ]
    },
    {
      "cell_type": "code",
      "metadata": {
        "colab": {
          "base_uri": "https://localhost:8080/"
        },
        "id": "j-EYW_gqGZtl",
        "outputId": "b9d13572-09c5-40b2-9106-f80afa1674a6"
      },
      "source": [
        "PrintState(InitialState)\n",
        "print()\n",
        "state1 = Result(InitialState, 'u')\n",
        "PrintState(state1)\n",
        "print()\n",
        "state1 = Result(state1, 'r')\n",
        "PrintState(state1)"
      ],
      "execution_count": 70,
      "outputs": [
        {
          "output_type": "stream",
          "name": "stdout",
          "text": [
            "[1, 2, 3, 4]\n",
            "[5, 6, 7, 8]\n",
            "[9, 10, 11, 12]\n",
            "[0, 13, 14, 15]\n",
            "\n",
            "[1, 2, 3, 4]\n",
            "[5, 6, 7, 8]\n",
            "[0, 10, 11, 12]\n",
            "[9, 13, 14, 15]\n",
            "\n",
            "[1, 2, 3, 4]\n",
            "[5, 6, 7, 8]\n",
            "[10, 0, 11, 12]\n",
            "[9, 13, 14, 15]\n"
          ]
        }
      ]
    },
    {
      "cell_type": "markdown",
      "metadata": {
        "id": "Mp0tnomdTFoC"
      },
      "source": [
        "# Random Walk\n",
        "\n",
        "Take some random moves from a state and return the new state and the sequence of moves.\n",
        "\n",
        "Do not include moves undoing last move, or having no effect."
      ]
    },
    {
      "cell_type": "code",
      "metadata": {
        "id": "1RVh0-S9IFiy"
      },
      "source": [
        "def RandomWalk(state, steps):\n",
        "  actionSequence = []\n",
        "  actionLast = None\n",
        "  for i in range(steps):\n",
        "    action = None\n",
        "    while action==None:\n",
        "      action = random.choice(Actions(state))\n",
        "      action = action if (LegalMove(state, action)\n",
        "          and action!= Opposite[actionLast]) else None\n",
        "    actionLast = action\n",
        "    state = Result(state, action)\n",
        "    actionSequence.append(action)\n",
        "  return state, actionSequence\n",
        "\n"
      ],
      "execution_count": 71,
      "outputs": []
    },
    {
      "cell_type": "code",
      "metadata": {
        "colab": {
          "base_uri": "https://localhost:8080/"
        },
        "id": "wcn5POkxKlER",
        "outputId": "02796161-2c2c-4663-c421-09b3430d72c8"
      },
      "source": [
        "state1, sol = RandomWalk(InitialState, 150)\n",
        "PrintState(state1)\n",
        "print (ManhattanDistance(state1, GoalState), sol)\n",
        "\n",
        "state1, sol = RandomWalk(InitialState, 5)\n",
        "PrintState(InitialState)\n",
        "print (sol)\n",
        "PrintState(state1)"
      ],
      "execution_count": 72,
      "outputs": [
        {
          "output_type": "stream",
          "name": "stdout",
          "text": [
            "[7, 1, 10, 5]\n",
            "[15, 6, 2, 4]\n",
            "[12, 13, 8, 14]\n",
            "[9, 11, 0, 3]\n",
            "35 ['u', 'r', 'r', 'u', 'r', 'u', 'l', 'l', 'd', 'l', 'u', 'r', 'r', 'd', 'l', 'l', 'd', 'r', 'r', 'r', 'd', 'l', 'u', 'r', 'd', 'l', 'l', 'l', 'u', 'u', 'r', 'r', 'd', 'l', 'u', 'r', 'd', 'r', 'u', 'l', 'u', 'l', 'd', 'l', 'u', 'r', 'd', 'l', 'u', 'r', 'd', 'l', 'u', 'r', 'd', 'l', 'd', 'd', 'r', 'r', 'u', 'u', 'r', 'u', 'l', 'd', 'l', 'l', 'd', 'd', 'r', 'r', 'r', 'u', 'l', 'l', 'l', 'u', 'u', 'r', 'r', 'd', 'l', 'l', 'u', 'r', 'r', 'd', 'd', 'd', 'l', 'l', 'u', 'r', 'r', 'd', 'l', 'l', 'u', 'r', 'd', 'r', 'r', 'u', 'l', 'd', 'l', 'l', 'u', 'r', 'r', 'r', 'u', 'l', 'd', 'd', 'r', 'u', 'l', 'l', 'u', 'l', 'u', 'r', 'r', 'd', 'r', 'u', 'l', 'd', 'r', 'u', 'l', 'd', 'd', 'r', 'u', 'l', 'u', 'l', 'l', 'd', 'r', 'd', 'l', 'd', 'r', 'u', 'r', 'd']\n",
            "[1, 2, 3, 4]\n",
            "[5, 6, 7, 8]\n",
            "[9, 10, 11, 12]\n",
            "[0, 13, 14, 15]\n",
            "['u', 'u', 'r', 'd', 'r']\n",
            "[1, 2, 3, 4]\n",
            "[6, 10, 7, 8]\n",
            "[5, 11, 0, 12]\n",
            "[9, 13, 14, 15]\n"
          ]
        }
      ]
    },
    {
      "cell_type": "code",
      "metadata": {
        "id": "Rc_8ohYvNIq-"
      },
      "source": [
        "def ApplyMoves(actions, state):\n",
        "  for action in actions:\n",
        "    state = Result(state, action)\n",
        "  return state"
      ],
      "execution_count": 73,
      "outputs": []
    },
    {
      "cell_type": "code",
      "metadata": {
        "colab": {
          "base_uri": "https://localhost:8080/"
        },
        "id": "Wv7MGqh8NXqy",
        "outputId": "7f0e8a32-8be2-491c-a093-a2862c436642"
      },
      "source": [
        "PrintState(InitialState)\n",
        "print(['r','r'])\n",
        "PrintState(ApplyMoves(['r','r'],InitialState))"
      ],
      "execution_count": 74,
      "outputs": [
        {
          "output_type": "stream",
          "name": "stdout",
          "text": [
            "[1, 2, 3, 4]\n",
            "[5, 6, 7, 8]\n",
            "[9, 10, 11, 12]\n",
            "[0, 13, 14, 15]\n",
            "['r', 'r']\n",
            "[1, 2, 3, 4]\n",
            "[5, 6, 7, 8]\n",
            "[9, 10, 11, 12]\n",
            "[13, 14, 0, 15]\n"
          ]
        }
      ]
    },
    {
      "cell_type": "code",
      "metadata": {
        "id": "_VS2KzQbOHlO"
      },
      "source": [
        "def ReverseMoves(actions):\n",
        "  ret = [Opposite[a] for a in actions]\n",
        "  ret.reverse()\n",
        "  return ret"
      ],
      "execution_count": 75,
      "outputs": []
    },
    {
      "cell_type": "code",
      "metadata": {
        "colab": {
          "base_uri": "https://localhost:8080/"
        },
        "id": "tp_pqYBXOsqS",
        "outputId": "e9d6faa1-9cc1-499a-f252-b17d9b0de555"
      },
      "source": [
        "state1, sol = RandomWalk(GoalState, 5)\n",
        "PrintState(state1)\n",
        "print (sol)\n",
        "print(ReverseMoves(sol))\n",
        "PrintState (ApplyMoves(ReverseMoves(sol), state1))\n"
      ],
      "execution_count": 76,
      "outputs": [
        {
          "output_type": "stream",
          "name": "stdout",
          "text": [
            "[1, 2, 3, 4]\n",
            "[5, 10, 6, 8]\n",
            "[9, 0, 7, 11]\n",
            "[13, 14, 15, 12]\n",
            "['u', 'l', 'u', 'l', 'd']\n",
            "['u', 'r', 'd', 'r', 'd']\n",
            "[1, 2, 3, 4]\n",
            "[5, 6, 7, 8]\n",
            "[9, 10, 11, 12]\n",
            "[13, 14, 15, 0]\n"
          ]
        }
      ]
    },
    {
      "cell_type": "markdown",
      "metadata": {
        "id": "8ABBDMJLROdo"
      },
      "source": [
        "## Problem Class\n",
        "\n",
        "INITIAL = InitialState  \n",
        "IsGoal = Goal Test  \n",
        "Actions = Actions List  \n",
        "Result = Action Behavior  \n",
        "ActionCost = Action Cost  "
      ]
    },
    {
      "cell_type": "code",
      "metadata": {
        "id": "fo6sq7myRQpE"
      },
      "source": [
        "class Problem(object): pass"
      ],
      "execution_count": 77,
      "outputs": []
    },
    {
      "cell_type": "markdown",
      "metadata": {
        "id": "aAHXlWteQ2LN"
      },
      "source": [
        "## Node"
      ]
    },
    {
      "cell_type": "code",
      "metadata": {
        "id": "URRYlfS9Q3vx"
      },
      "source": [
        "class Node(object):\n",
        "  def __init__(self, state, parent=None, action=None, path_cost=0 ):\n",
        "    self.State=state\n",
        "    self.Parent=parent\n",
        "    self.Action=action\n",
        "    self.PathCost = path_cost\n",
        "\n",
        "  def __str__(self):\n",
        "    action = \"<none>\" if not self.Action else self.Action\n",
        "    return str(self.State) + \", \" + action\n",
        "  def __repr__(self):\n",
        "    action = \"<none>\" if not self.Action else self.Action\n",
        "    return str(self.State) + \", \" + action\n",
        "  def __lt__(self, other):\n",
        "    return self.PathCost < other.PathCost;"
      ],
      "execution_count": 78,
      "outputs": []
    },
    {
      "cell_type": "markdown",
      "metadata": {
        "id": "LpzKnx4rkxL9"
      },
      "source": [
        "## Expand"
      ]
    },
    {
      "cell_type": "code",
      "metadata": {
        "id": "CRj9UnyHdDo_"
      },
      "source": [
        "def Expand(problem, node):\n",
        "  ret = []\n",
        "  s = node.State\n",
        "  for action in problem.Actions(s):\n",
        "    sPrime = problem.Result(s, action)\n",
        "    cost =node.PathCost + problem.ActionCost(s,action,sPrime)\n",
        "    ret.append(Node(sPrime, node, action, cost))\n",
        "  return ret\n"
      ],
      "execution_count": 79,
      "outputs": []
    },
    {
      "cell_type": "markdown",
      "metadata": {
        "id": "Ee2ZYxjVlBSl"
      },
      "source": [
        "## Breadth-First Search"
      ]
    },
    {
      "cell_type": "code",
      "metadata": {
        "id": "DZoCxoGzkt4E"
      },
      "source": [
        "def BreadthFirstSearch(problem):\n",
        "  node = Node(tuple(problem.INITIAL))\n",
        "  if problem.IsGoal(node.State):\n",
        "    return node, 0\n",
        "  Frontier = []\n",
        "  Frontier.append(node)\n",
        "  reached = set()\n",
        "  reached.add(tuple(problem.INITIAL))\n",
        "  nodesExpanded = 0\n",
        "  while (Frontier):\n",
        "    ### print([str(n) for n in Frontier])\n",
        "    node = Frontier.pop(0)\n",
        "    ### print(node)\n",
        "    for child in Expand(problem, node):\n",
        "      s = tuple(child.State)\n",
        "      ### print (s, \"IsGoal=\", problem.IsGoal(s))\n",
        "      if problem.IsGoal(s):\n",
        "        return child, nodesExpanded\n",
        "      if s not in reached:\n",
        "        reached.add(s)\n",
        "        Frontier.append(child)\n",
        "    nodesExpanded += 1\n",
        "    if nodesExpanded > 500000:\n",
        "      break;\n",
        "  return None, nodesExpanded"
      ],
      "execution_count": 80,
      "outputs": []
    },
    {
      "cell_type": "markdown",
      "metadata": {
        "id": "AoX48XG6lFOf"
      },
      "source": [
        "## Best-First Search"
      ]
    },
    {
      "cell_type": "code",
      "metadata": {
        "id": "lUIAdr_qa1KT"
      },
      "source": [
        "def BestFirstSearch(problem, f):\n",
        "  node = Node(tuple(problem.INITIAL))\n",
        "  Frontier = []\n",
        "  heapq.heappush(Frontier,(f(node), node))\n",
        "  reached = {}\n",
        "  reached[tuple(problem.INITIAL)]=node\n",
        "  nodesExpanded = 0\n",
        "  while (Frontier):\n",
        "    ##print([(x, str(n)) for (x,n) in Frontier])\n",
        "    fValue, node = heapq.heappop(Frontier)\n",
        "    ##print (node.State, \"IsGoal=\", problem.IsGoal(tuple(node.State)))\n",
        "    if problem.IsGoal(tuple(node.State)):\n",
        "      return node, nodesExpanded    ### print(node)\n",
        "    for child in Expand(problem, node):\n",
        "      s = tuple(child.State)\n",
        "      if s not in reached or child.PathCost < reached[s].PathCost:\n",
        "        reached[s] = child\n",
        "        heapq.heappush(Frontier, (f(child), child))\n",
        "    nodesExpanded += 1\n",
        "    if nodesExpanded > 500000:\n",
        "      break;\n",
        "  return None, nodesExpanded"
      ],
      "execution_count": 81,
      "outputs": []
    },
    {
      "cell_type": "markdown",
      "metadata": {
        "id": "kRjolRYslOa4"
      },
      "source": [
        "## Problem 1"
      ]
    },
    {
      "cell_type": "code",
      "metadata": {
        "colab": {
          "base_uri": "https://localhost:8080/"
        },
        "id": "dLWDIbmsRGY3",
        "outputId": "4904d7e9-64c5-47f8-c552-bb536bb2b992"
      },
      "source": [
        "TileSliding = Problem()\n",
        "TileSliding.INITIAL = InitialState  # InitialState is already defined as a 4x4 puzzle\n",
        "TileSliding.IsGoal = lambda s: s == (1, 2, 3, 4, 5, 6, 7, 8, 9, 10, 11, 12, 13, 14, 15, 0)\n",
        "TileSliding.Actions = Actions\n",
        "TileSliding.Result = Result\n",
        "TileSliding.ActionCost = lambda s, a, sPrime: 1\n",
        "print(TileSliding.IsGoal((1, 2, 3, 4, 5, 6, 7, 8, 9, 10, 11, 12, 13, 14, 15, 0)))\n",
        "print(Node(InitialState))\n",
        "print(1 + TileSliding.ActionCost(1, 2, 3))"
      ],
      "execution_count": 87,
      "outputs": [
        {
          "output_type": "stream",
          "name": "stdout",
          "text": [
            "True\n",
            "[1, 2, 3, 4, 5, 6, 7, 8, 9, 10, 11, 12, 0, 13, 14, 15], <none>\n",
            "2\n"
          ]
        }
      ]
    },
    {
      "cell_type": "code",
      "metadata": {
        "colab": {
          "base_uri": "https://localhost:8080/"
        },
        "id": "6VoIEO4c1gHz",
        "outputId": "6adecb9c-de44-4d27-d674-aaae21d33082"
      },
      "source": [
        "TileSliding.INITIAL = [1, 2, 3, 4, 5, 6, 7, 8, 9, 10, 11, 12, 13, 14, 15, 0]\n",
        "ret, cost = BreadthFirstSearch(TileSliding)\n",
        "print (ret, cost)"
      ],
      "execution_count": 88,
      "outputs": [
        {
          "output_type": "stream",
          "name": "stdout",
          "text": [
            "(1, 2, 3, 4, 5, 6, 7, 8, 9, 10, 11, 12, 13, 14, 15, 0), <none> 0\n"
          ]
        }
      ]
    },
    {
      "cell_type": "code",
      "metadata": {
        "id": "3hsBKY7Fle3w"
      },
      "source": [
        "def Solution(node):\n",
        "  if node.Parent==None:\n",
        "    return []\n",
        "  return Solution(node.Parent) + [node.Action]\n"
      ],
      "execution_count": 85,
      "outputs": []
    },
    {
      "cell_type": "code",
      "metadata": {
        "colab": {
          "base_uri": "https://localhost:8080/"
        },
        "id": "rtr7Vr84NAfY",
        "outputId": "b8b353d2-7b6f-45d0-9010-8a52e93cfe50"
      },
      "source": [
        "sol = Solution(ret)\n",
        "print (sol)\n",
        "print (TileSliding.INITIAL)\n",
        "print (ApplyMoves(sol, TileSliding.INITIAL))"
      ],
      "execution_count": 89,
      "outputs": [
        {
          "output_type": "stream",
          "name": "stdout",
          "text": [
            "[]\n",
            "[1, 2, 3, 4, 5, 6, 7, 8, 9, 10, 11, 12, 13, 14, 15, 0]\n",
            "[1, 2, 3, 4, 5, 6, 7, 8, 9, 10, 11, 12, 13, 14, 15, 0]\n"
          ]
        }
      ]
    },
    {
      "cell_type": "code",
      "metadata": {
        "colab": {
          "base_uri": "https://localhost:8080/"
        },
        "id": "RDE3dNP8NOU7",
        "outputId": "4ffc4e65-1b79-49ae-d0d8-e2c6f03f6402"
      },
      "source": [
        "TileSliding.INITIAL = [1, 2, 3, 4, 5, 6, 7, 8, 9, 10, 11, 12, 13, 14, 15, 0]\n",
        "ret, cost = BreadthFirstSearch(TileSliding)\n",
        "print (ret, cost)"
      ],
      "execution_count": 91,
      "outputs": [
        {
          "output_type": "stream",
          "name": "stdout",
          "text": [
            "(1, 2, 3, 4, 5, 6, 7, 8, 9, 10, 11, 12, 13, 14, 15, 0), <none> 0\n"
          ]
        }
      ]
    },
    {
      "cell_type": "code",
      "metadata": {
        "colab": {
          "base_uri": "https://localhost:8080/"
        },
        "id": "YBkLupiYNyZ_",
        "outputId": "da7c2343-9b44-4bd1-adc8-8c2ac6255811"
      },
      "source": [
        "sol = Solution(ret)\n",
        "print (sol)\n",
        "print (TileSliding.INITIAL)\n",
        "print (ApplyMoves(sol, TileSliding.INITIAL))"
      ],
      "execution_count": 92,
      "outputs": [
        {
          "output_type": "stream",
          "name": "stdout",
          "text": [
            "[]\n",
            "[1, 2, 3, 4, 5, 6, 7, 8, 9, 10, 11, 12, 13, 14, 15, 0]\n",
            "[1, 2, 3, 4, 5, 6, 7, 8, 9, 10, 11, 12, 13, 14, 15, 0]\n"
          ]
        }
      ]
    },
    {
      "cell_type": "code",
      "metadata": {
        "colab": {
          "base_uri": "https://localhost:8080/"
        },
        "id": "GXdlMLxwhxMF",
        "outputId": "7c80dd8b-d060-4d35-e374-26b6a7697516"
      },
      "source": [
        "UniformCostF = lambda n: n.PathCost\n",
        "AStarF = lambda n: n.PathCost+ManhattanDistance(n.State, GoalState)\n",
        "TileSliding.INITIAL = [1, 2, 3, 4, 5, 6, 7, 8, 9, 10, 11, 12, 13, 14, 15, 0]\n",
        "ret, cost = BestFirstSearch(TileSliding, UniformCostF)\n",
        "print (ret)\n",
        "sol = Solution(ret)\n",
        "print (sol)\n",
        "print (TileSliding.INITIAL)\n",
        "print (ApplyMoves(sol, TileSliding.INITIAL))\n",
        "print (\"Nodes Expanded=\", cost)"
      ],
      "execution_count": 94,
      "outputs": [
        {
          "output_type": "stream",
          "name": "stdout",
          "text": [
            "(1, 2, 3, 4, 5, 6, 7, 8, 9, 10, 11, 12, 13, 14, 15, 0), <none>\n",
            "[]\n",
            "[1, 2, 3, 4, 5, 6, 7, 8, 9, 10, 11, 12, 13, 14, 15, 0]\n",
            "[1, 2, 3, 4, 5, 6, 7, 8, 9, 10, 11, 12, 13, 14, 15, 0]\n",
            "Nodes Expanded= 0\n"
          ]
        }
      ]
    },
    {
      "cell_type": "markdown",
      "metadata": {
        "id": "bu6svMo0n9Pc"
      },
      "source": [
        "# Problem 2"
      ]
    },
    {
      "cell_type": "code",
      "metadata": {
        "colab": {
          "base_uri": "https://localhost:8080/"
        },
        "id": "rXzEVLYEn8m1",
        "outputId": "773ea4da-c227-44d0-ee51-d9f24e4771f4"
      },
      "source": [
        "state1, sol = RandomWalk(GoalState, 80)\n",
        "PrintState(state1)\n",
        "print (sol)\n",
        "print(ReverseMoves(sol))\n",
        "PrintState (ApplyMoves(ReverseMoves(sol), state1))"
      ],
      "execution_count": 109,
      "outputs": [
        {
          "output_type": "stream",
          "name": "stdout",
          "text": [
            "[2, 5, 11, 8]\n",
            "[1, 12, 9, 3]\n",
            "[4, 6, 7, 14]\n",
            "[10, 0, 15, 13]\n",
            "['l', 'l', 'u', 'u', 'r', 'r', 'u', 'l', 'd', 'l', 'l', 'd', 'd', 'r', 'u', 'u', 'l', 'u', 'r', 'd', 'r', 'r', 'u', 'l', 'd', 'l', 'd', 'l', 'u', 'r', 'r', 'r', 'u', 'l', 'd', 'd', 'l', 'u', 'r', 'u', 'r', 'd', 'd', 'd', 'l', 'u', 'u', 'r', 'd', 'l', 'u', 'u', 'l', 'd', 'l', 'd', 'd', 'r', 'u', 'r', 'u', 'r', 'd', 'd', 'l', 'u', 'u', 'u', 'l', 'd', 'd', 'd', 'r', 'u', 'l', 'd', 'l', 'u', 'r', 'd']\n",
            "['u', 'l', 'd', 'r', 'u', 'r', 'd', 'l', 'u', 'u', 'u', 'r', 'd', 'd', 'd', 'r', 'u', 'u', 'l', 'd', 'l', 'd', 'l', 'u', 'u', 'r', 'u', 'r', 'd', 'd', 'r', 'u', 'l', 'd', 'd', 'r', 'u', 'u', 'u', 'l', 'd', 'l', 'd', 'r', 'u', 'u', 'r', 'd', 'l', 'l', 'l', 'd', 'r', 'u', 'r', 'u', 'r', 'd', 'l', 'l', 'u', 'l', 'd', 'r', 'd', 'd', 'l', 'u', 'u', 'r', 'r', 'u', 'r', 'd', 'l', 'l', 'd', 'd', 'r', 'r']\n",
            "[1, 2, 3, 4]\n",
            "[5, 6, 7, 8]\n",
            "[9, 10, 11, 12]\n",
            "[13, 14, 15, 0]\n"
          ]
        }
      ]
    },
    {
      "cell_type": "code",
      "metadata": {
        "colab": {
          "base_uri": "https://localhost:8080/",
          "height": 332
        },
        "id": "tKnMcesqoCss",
        "outputId": "b97dd580-2a72-4741-a35b-aec7e069067a"
      },
      "source": [
        "TileSliding.INITIAL = state1\n",
        "ret, cost = BreadthFirstSearch(TileSliding)\n",
        "print (ret)\n",
        "sol = Solution(ret)\n",
        "print (sol)\n",
        "print (TileSliding.INITIAL)\n",
        "print (ApplyMoves(sol, TileSliding.INITIAL))\n",
        "print (\"Length of solution: \", len(sol))\n",
        "print (\"Nodes Expanded=\", cost)"
      ],
      "execution_count": 110,
      "outputs": [
        {
          "output_type": "error",
          "ename": "KeyboardInterrupt",
          "evalue": "",
          "traceback": [
            "\u001b[0;31m---------------------------------------------------------------------------\u001b[0m",
            "\u001b[0;31mKeyboardInterrupt\u001b[0m                         Traceback (most recent call last)",
            "\u001b[0;32m<ipython-input-110-9dae658154f6>\u001b[0m in \u001b[0;36m<cell line: 0>\u001b[0;34m()\u001b[0m\n\u001b[1;32m      1\u001b[0m \u001b[0mTileSliding\u001b[0m\u001b[0;34m.\u001b[0m\u001b[0mINITIAL\u001b[0m \u001b[0;34m=\u001b[0m \u001b[0mstate1\u001b[0m\u001b[0;34m\u001b[0m\u001b[0;34m\u001b[0m\u001b[0m\n\u001b[0;32m----> 2\u001b[0;31m \u001b[0mret\u001b[0m\u001b[0;34m,\u001b[0m \u001b[0mcost\u001b[0m \u001b[0;34m=\u001b[0m \u001b[0mBreadthFirstSearch\u001b[0m\u001b[0;34m(\u001b[0m\u001b[0mTileSliding\u001b[0m\u001b[0;34m)\u001b[0m\u001b[0;34m\u001b[0m\u001b[0;34m\u001b[0m\u001b[0m\n\u001b[0m\u001b[1;32m      3\u001b[0m \u001b[0mprint\u001b[0m \u001b[0;34m(\u001b[0m\u001b[0mret\u001b[0m\u001b[0;34m)\u001b[0m\u001b[0;34m\u001b[0m\u001b[0;34m\u001b[0m\u001b[0m\n\u001b[1;32m      4\u001b[0m \u001b[0msol\u001b[0m \u001b[0;34m=\u001b[0m \u001b[0mSolution\u001b[0m\u001b[0;34m(\u001b[0m\u001b[0mret\u001b[0m\u001b[0;34m)\u001b[0m\u001b[0;34m\u001b[0m\u001b[0;34m\u001b[0m\u001b[0m\n\u001b[1;32m      5\u001b[0m \u001b[0mprint\u001b[0m \u001b[0;34m(\u001b[0m\u001b[0msol\u001b[0m\u001b[0;34m)\u001b[0m\u001b[0;34m\u001b[0m\u001b[0;34m\u001b[0m\u001b[0m\n",
            "\u001b[0;32m<ipython-input-80-ba5ba6d85b36>\u001b[0m in \u001b[0;36mBreadthFirstSearch\u001b[0;34m(problem)\u001b[0m\n\u001b[1;32m     10\u001b[0m   \u001b[0;32mwhile\u001b[0m \u001b[0;34m(\u001b[0m\u001b[0mFrontier\u001b[0m\u001b[0;34m)\u001b[0m\u001b[0;34m:\u001b[0m\u001b[0;34m\u001b[0m\u001b[0;34m\u001b[0m\u001b[0m\n\u001b[1;32m     11\u001b[0m     \u001b[0;31m### print([str(n) for n in Frontier])\u001b[0m\u001b[0;34m\u001b[0m\u001b[0;34m\u001b[0m\u001b[0m\n\u001b[0;32m---> 12\u001b[0;31m     \u001b[0mnode\u001b[0m \u001b[0;34m=\u001b[0m \u001b[0mFrontier\u001b[0m\u001b[0;34m.\u001b[0m\u001b[0mpop\u001b[0m\u001b[0;34m(\u001b[0m\u001b[0;36m0\u001b[0m\u001b[0;34m)\u001b[0m\u001b[0;34m\u001b[0m\u001b[0;34m\u001b[0m\u001b[0m\n\u001b[0m\u001b[1;32m     13\u001b[0m     \u001b[0;31m### print(node)\u001b[0m\u001b[0;34m\u001b[0m\u001b[0;34m\u001b[0m\u001b[0m\n\u001b[1;32m     14\u001b[0m     \u001b[0;32mfor\u001b[0m \u001b[0mchild\u001b[0m \u001b[0;32min\u001b[0m \u001b[0mExpand\u001b[0m\u001b[0;34m(\u001b[0m\u001b[0mproblem\u001b[0m\u001b[0;34m,\u001b[0m \u001b[0mnode\u001b[0m\u001b[0;34m)\u001b[0m\u001b[0;34m:\u001b[0m\u001b[0;34m\u001b[0m\u001b[0;34m\u001b[0m\u001b[0m\n",
            "\u001b[0;31mKeyboardInterrupt\u001b[0m: "
          ]
        }
      ]
    },
    {
      "cell_type": "code",
      "metadata": {
        "colab": {
          "base_uri": "https://localhost:8080/"
        },
        "id": "k24bl418eL5m",
        "outputId": "6b6d515e-3140-444e-8b6f-65e392b3746e"
      },
      "source": [
        "UniformCostF = lambda n: n.PathCost\n",
        "TileSliding.INITIAL = state1\n",
        "ret, cost = BestFirstSearch(TileSliding, UniformCostF)\n",
        "print (ret)\n",
        "sol = Solution(ret)\n",
        "print (sol)\n",
        "print (TileSliding.INITIAL)\n",
        "print (ApplyMoves(sol, TileSliding.INITIAL))\n",
        "print (\"Length of solution: \", len(sol))\n",
        "print (\"Nodes Expanded=\", cost)"
      ],
      "execution_count": 108,
      "outputs": [
        {
          "output_type": "stream",
          "name": "stdout",
          "text": [
            "[1, 2, 3, 4, 5, 6, 7, 8, 9, 10, 11, 12, 13, 14, 15, 0], d\n",
            "['l', 'u', 'r', 'u', 'u', 'r', 'r', 'd', 'd', 'd']\n",
            "[1, 6, 2, 3, 5, 10, 7, 4, 13, 9, 11, 8, 14, 0, 15, 12]\n",
            "[1, 2, 3, 4, 5, 6, 7, 8, 9, 10, 11, 12, 13, 14, 15, 0]\n",
            "Length of solution:  10\n",
            "Nodes Expanded= 3546\n"
          ]
        }
      ]
    },
    {
      "cell_type": "markdown",
      "metadata": {
        "id": "tdtWdXGlXFGG"
      },
      "source": [
        "# Problem List"
      ]
    },
    {
      "cell_type": "code",
      "metadata": {
        "colab": {
          "base_uri": "https://localhost:8080/"
        },
        "id": "iDhmyFXQXI3N",
        "outputId": "421de570-1ad8-4c1f-997b-09754ff4368d"
      },
      "source": [
        "findNum = 10\n",
        "randomWalkDistance = 5\n",
        "problemList = []\n",
        "for i in range(3):\n",
        "  state1, sol = RandomWalk(GoalState, 10)\n",
        "  problemList.append(state1)\n",
        "print (problemList)"
      ],
      "execution_count": 172,
      "outputs": [
        {
          "output_type": "stream",
          "name": "stdout",
          "text": [
            "[[0, 1, 2, 7, 5, 6, 4, 3, 9, 10, 11, 8, 13, 14, 15, 12], [2, 5, 0, 4, 1, 7, 3, 8, 9, 6, 10, 11, 13, 14, 15, 12], [1, 2, 3, 4, 9, 0, 6, 7, 13, 5, 11, 8, 14, 10, 15, 12]]\n"
          ]
        }
      ]
    },
    {
      "cell_type": "markdown",
      "metadata": {
        "id": "TpdrxwA8UvFn"
      },
      "source": [
        "### Breadth First Search w/ Test Problems"
      ]
    },
    {
      "cell_type": "code",
      "metadata": {
        "colab": {
          "base_uri": "https://localhost:8080/"
        },
        "id": "xrni2RRIXkfU",
        "outputId": "928c10ac-ee74-4bc0-c148-f958d1a87897"
      },
      "source": [
        "Solutions = []\n",
        "for s in problemList:\n",
        "  TileSliding.INITIAL = s\n",
        "  ret, cost = BreadthFirstSearch(TileSliding)\n",
        "  sol = Solution(ret)\n",
        "  print (sol)\n",
        "  print (\"-----------------------\")\n",
        "  print (TileSliding.INITIAL,'\\n')\n",
        "  print (ApplyMoves(sol, TileSliding.INITIAL))\n",
        "  print (\"Length of solution: \", len(sol))\n",
        "  print (\"Nodes Expanded=\", cost)\n",
        "  print (\"-----------------------\")\n",
        "  Solutions.append((''.join(map(str, s)), ''.join(sol), cost))\n",
        "print (\"-------\")\n",
        "print (Solutions)\n"
      ],
      "execution_count": 151,
      "outputs": [
        {
          "output_type": "stream",
          "name": "stdout",
          "text": [
            "['r', 'u', 'r', 'd', 'l', 'u', 'u', 'r', 'd', 'd']\n",
            "-----------------------\n",
            "[1, 2, 3, 4, 5, 6, 11, 7, 9, 10, 12, 15, 13, 0, 14, 8] \n",
            "\n",
            "[1, 2, 3, 4, 5, 6, 7, 8, 9, 10, 11, 12, 13, 14, 15, 0]\n",
            "Length of solution:  10\n",
            "Nodes Expanded= 2214\n",
            "-----------------------\n",
            "['u', 'l', 'd', 'r', 'd', 'r', 'u', 'r', 'd', 'd']\n",
            "-----------------------\n",
            "[2, 5, 3, 4, 1, 0, 11, 7, 9, 6, 10, 8, 13, 14, 15, 12] \n",
            "\n",
            "[1, 2, 3, 4, 5, 6, 7, 8, 9, 10, 11, 12, 13, 14, 15, 0]\n",
            "Length of solution:  10\n",
            "Nodes Expanded= 1531\n",
            "-----------------------\n",
            "['r', 'r', 'u', 'u', 'l', 'u', 'r', 'd', 'd', 'd']\n",
            "-----------------------\n",
            "[1, 2, 7, 3, 5, 6, 4, 8, 9, 10, 11, 12, 13, 0, 14, 15] \n",
            "\n",
            "[1, 2, 3, 4, 5, 6, 7, 8, 9, 10, 11, 12, 13, 14, 15, 0]\n",
            "Length of solution:  10\n",
            "Nodes Expanded= 2250\n",
            "-----------------------\n",
            "-------\n",
            "[('1234561179101215130148', 'rurdluurdd', 2214), ('2534101179610813141512', 'uldrdrurdd', 1531), ('1273564891011121301415', 'rruulurddd', 2250)]\n"
          ]
        }
      ]
    },
    {
      "cell_type": "markdown",
      "source": [
        "#Results:\n",
        "\n",
        "# 4x4 5 Steps\n",
        "['r', 'r', 'u', 'u', 'l', 'u', 'r', 'd', 'd', 'd']\n",
        "-----------------------\n",
        "[1, 2, 7, 3, 5, 6, 4, 8, 9, 10, 11, 12, 13, 0, 14, 15]\n",
        "\n",
        "[1, 2, 3, 4, 5, 6, 7, 8, 9, 10, 11, 12, 13, 14, 15, 0]\n",
        "Length of solution:  10\n",
        "Nodes Expanded= 2250\n",
        "-----------------------\n",
        "['r', 'd', 'd', 'd', 'l', 'l', 'u', 'r', 'r', 'd']\n",
        "-----------------------\n",
        "[1, 2, 0, 3, 5, 6, 7, 4, 9, 14, 10, 8, 13, 15, 12, 11]\n",
        "\n",
        "[1, 2, 3, 4, 5, 6, 7, 8, 9, 10, 11, 12, 13, 14, 15, 0]\n",
        "Length of solution:  10\n",
        "Nodes Expanded= 2146\n",
        "-----------------------\n",
        "['d', 'r', 'u', 'l', 'u', 'r', 'r', 'd', 'd', 'd']\n",
        "-----------------------\n",
        "[1, 6, 2, 3, 5, 0, 11, 4, 9, 7, 10, 8, 13, 14, 15, 12]\n",
        "\n",
        "[1, 2, 3, 4, 5, 6, 7, 8, 9, 10, 11, 12, 13, 14, 15, 0]\n",
        "Length of solution:  10\n",
        "Nodes Expanded= 2056\n",
        "-----------------------\n",
        "-------\n",
        "[('1273564891011121301415', 'rruulurddd', 2250), ('1203567491410813151211', 'rdddllurrd', 2146), ('1623501149710813141512', 'drulurrddd', 2056)]\n",
        "\n",
        "#4x4 10 Steps\n",
        "['u', 'r', 'r', 'd', 'l', 'd', 'l', 'd', 'r', 'r']\n",
        "-----------------------\n",
        "[1, 6, 2, 3, 5, 0, 8, 4, 9, 11, 7, 12, 13, 10, 14, 15]\n",
        "\n",
        "[1, 2, 3, 4, 5, 6, 7, 8, 9, 10, 11, 12, 13, 14, 15, 0]\n",
        "Length of solution:  10\n",
        "Nodes Expanded= 1724\n",
        "-----------------------\n",
        "['d', 'r', 'u', 'u', 'u', 'l', 'd', 'r', 'd', 'd']\n",
        "-----------------------\n",
        "[1, 2, 4, 7, 5, 6, 3, 8, 9, 10, 0, 12, 13, 14, 11, 15]\n",
        "\n",
        "[1, 2, 3, 4, 5, 6, 7, 8, 9, 10, 11, 12, 13, 14, 15, 0]\n",
        "Length of solution:  10\n",
        "Nodes Expanded= 2156\n",
        "-----------------------\n",
        "['l', 'l', 'd', 'd', 'r', 'u', 'r', 'd', 'r', 'd']\n",
        "-----------------------\n",
        "[2, 3, 0, 4, 1, 10, 6, 8, 5, 9, 7, 11, 13, 14, 15, 12]\n",
        "\n",
        "[1, 2, 3, 4, 5, 6, 7, 8, 9, 10, 11, 12, 13, 14, 15, 0]\n",
        "Length of solution:  10\n",
        "Nodes Expanded= 2043\n",
        "-----------------------\n",
        "-------\n",
        "[('1623508491171213101415', 'urrdldldrr', 1724), ('1247563891001213141115', 'druuuldrdd', 2156), ('2304110685971113141512', 'llddrurdrd', 2043)]\n",
        "\n",
        "#4x4 20 Steps\n",
        "['d', 'd', 'l', 'l', 'u', 'l', 'd', 'r', 'r', 'r']\n",
        "-----------------------\n",
        "[1, 2, 3, 4, 5, 6, 7, 0, 10, 13, 11, 8, 9, 14, 15, 12]\n",
        "\n",
        "[1, 2, 3, 4, 5, 6, 7, 8, 9, 10, 11, 12, 13, 14, 15, 0]\n",
        "Length of solution:  10\n",
        "Nodes Expanded= 1420\n",
        "-----------------------\n",
        "['r', 'u', 'u', 'l', 'l', 'd', 'd', 'r', 'r', 'd']\n",
        "-----------------------\n",
        "[1, 3, 4, 8, 5, 2, 7, 11, 9, 6, 0, 10, 13, 14, 15, 12]\n",
        "\n",
        "[1, 2, 3, 4, 5, 6, 7, 8, 9, 10, 11, 12, 13, 14, 15, 0]\n",
        "Length of solution:  10\n",
        "Nodes Expanded= 2768\n",
        "-----------------------\n",
        "['d', 'r', 'r', 'r', 'u', 'u', 'l', 'd', 'r', 'd']\n",
        "-----------------------\n",
        "[1, 2, 3, 4, 5, 6, 8, 11, 0, 10, 7, 12, 9, 13, 14, 15]\n",
        "\n",
        "[1, 2, 3, 4, 5, 6, 7, 8, 9, 10, 11, 12, 13, 14, 15, 0]\n",
        "Length of solution:  10\n",
        "Nodes Expanded= 1715\n",
        "-----------------------\n",
        "-------\n",
        "[('1234567010131189141512', 'ddlluldrrr', 1420), ('1348527119601013141512', 'ruullddrrd', 2768), ('1234568110107129131415', 'drrruuldrd', 1715)]\n",
        "\n",
        "#4x4 40 Steps\n",
        "['l', 'u', 'l', 'u', 'l', 'd', 'd', 'r', 'r', 'r']\n",
        "-----------------------\n",
        "[1, 2, 3, 4, 6, 10, 7, 8, 5, 11, 14, 12, 9, 13, 15, 0]\n",
        "\n",
        "[1, 2, 3, 4, 5, 6, 7, 8, 9, 10, 11, 12, 13, 14, 15, 0]\n",
        "Length of solution:  10\n",
        "Nodes Expanded= 1479\n",
        "-----------------------\n",
        "['l', 'u', 'u', 'u', 'r', 'r', 'd', 'r', 'd', 'd']\n",
        "-----------------------\n",
        "[5, 1, 2, 4, 9, 6, 3, 7, 13, 10, 11, 8, 14, 0, 15, 12]\n",
        "\n",
        "[1, 2, 3, 4, 5, 6, 7, 8, 9, 10, 11, 12, 13, 14, 15, 0]\n",
        "Length of solution:  10\n",
        "Nodes Expanded= 1767\n",
        "-----------------------\n",
        "['l', 'l', 'd', 'd', 'r', 'd', 'r', 'u', 'r', 'd']\n",
        "-----------------------\n",
        "[2, 3, 0, 4, 1, 6, 7, 8, 5, 9, 15, 11, 13, 10, 14, 12]\n",
        "\n",
        "[1, 2, 3, 4, 5, 6, 7, 8, 9, 10, 11, 12, 13, 14, 15, 0]\n",
        "Length of solution:  10\n",
        "Nodes Expanded= 2050\n",
        "-----------------------\n",
        "-------\n",
        "[('1234610785111412913150', 'lululddrrr', 1479), ('5124963713101181401512', 'luuurrdrdd', 1767), ('2304167859151113101412', 'llddrdrurd', 2050)]\n",
        "\n",
        "#4x4 80 Steps\n",
        "['r', 'u', 'r', 'd', 'l', 'u', 'u', 'r', 'd', 'd']\n",
        "-----------------------\n",
        "[1, 2, 3, 4, 5, 6, 11, 7, 9, 10, 12, 15, 13, 0, 14, 8]\n",
        "\n",
        "[1, 2, 3, 4, 5, 6, 7, 8, 9, 10, 11, 12, 13, 14, 15, 0]\n",
        "Length of solution:  10\n",
        "Nodes Expanded= 2214\n",
        "-----------------------\n",
        "['u', 'l', 'd', 'r', 'd', 'r', 'u', 'r', 'd', 'd']\n",
        "-----------------------\n",
        "[2, 5, 3, 4, 1, 0, 11, 7, 9, 6, 10, 8, 13, 14, 15, 12]\n",
        "\n",
        "[1, 2, 3, 4, 5, 6, 7, 8, 9, 10, 11, 12, 13, 14, 15, 0]\n",
        "Length of solution:  10\n",
        "Nodes Expanded= 1531\n",
        "-----------------------\n",
        "['r', 'r', 'u', 'u', 'l', 'u', 'r', 'd', 'd', 'd']\n",
        "-----------------------\n",
        "[1, 2, 7, 3, 5, 6, 4, 8, 9, 10, 11, 12, 13, 0, 14, 15]\n",
        "\n",
        "[1, 2, 3, 4, 5, 6, 7, 8, 9, 10, 11, 12, 13, 14, 15, 0]\n",
        "Length of solution:  10\n",
        "Nodes Expanded= 2250\n",
        "-----------------------\n",
        "-------\n",
        "[('1234561179101215130148', 'rurdluurdd', 2214), ('2534101179610813141512', 'uldrdrurdd', 1531), ('1273564891011121301415', 'rruulurddd', 2250)]"
      ],
      "metadata": {
        "id": "NgO2DfyvvwK6"
      }
    },
    {
      "cell_type": "markdown",
      "metadata": {
        "id": "YLVN3sTkU0jw"
      },
      "source": [
        "### Uniform Cost Search w/ Test Problems"
      ]
    },
    {
      "cell_type": "code",
      "metadata": {
        "colab": {
          "base_uri": "https://localhost:8080/"
        },
        "id": "LsWVfbeLRYfO",
        "outputId": "644836a8-9669-4d37-deea-76affa674d32"
      },
      "source": [
        "UniformCostF = lambda n: n.PathCost\n",
        "\n",
        "Solutions = []\n",
        "for s in problemList:\n",
        "  TileSliding.INITIAL = s\n",
        "  ret, cost = BestFirstSearch(TileSliding, UniformCostF)\n",
        "  sol = Solution(ret)\n",
        "  print (sol)\n",
        "  print (\"-----------------------\")\n",
        "  print (TileSliding.INITIAL,'\\n')\n",
        "  print (ApplyMoves(sol, TileSliding.INITIAL))\n",
        "  print (\"Length of solution: \", len(sol))\n",
        "  print (\"Nodes Expanded=\", cost)\n",
        "  print (\"-----------------------\")\n",
        "  Solutions.append((''.join(map(str, s)), ''.join(sol), cost))\n",
        "print (\"-------\")\n",
        "print (Solutions)"
      ],
      "execution_count": 152,
      "outputs": [
        {
          "output_type": "stream",
          "name": "stdout",
          "text": [
            "['r', 'u', 'r', 'd', 'l', 'u', 'u', 'r', 'd', 'd']\n",
            "-----------------------\n",
            "[1, 2, 3, 4, 5, 6, 11, 7, 9, 10, 12, 15, 13, 0, 14, 8] \n",
            "\n",
            "[1, 2, 3, 4, 5, 6, 7, 8, 9, 10, 11, 12, 13, 14, 15, 0]\n",
            "Length of solution:  10\n",
            "Nodes Expanded= 4782\n",
            "-----------------------\n",
            "['u', 'l', 'd', 'r', 'd', 'r', 'u', 'r', 'd', 'd']\n",
            "-----------------------\n",
            "[2, 5, 3, 4, 1, 0, 11, 7, 9, 6, 10, 8, 13, 14, 15, 12] \n",
            "\n",
            "[1, 2, 3, 4, 5, 6, 7, 8, 9, 10, 11, 12, 13, 14, 15, 0]\n",
            "Length of solution:  10\n",
            "Nodes Expanded= 4705\n",
            "-----------------------\n",
            "['r', 'r', 'u', 'u', 'l', 'u', 'r', 'd', 'd', 'd']\n",
            "-----------------------\n",
            "[1, 2, 7, 3, 5, 6, 4, 8, 9, 10, 11, 12, 13, 0, 14, 15] \n",
            "\n",
            "[1, 2, 3, 4, 5, 6, 7, 8, 9, 10, 11, 12, 13, 14, 15, 0]\n",
            "Length of solution:  10\n",
            "Nodes Expanded= 3948\n",
            "-----------------------\n",
            "-------\n",
            "[('1234561179101215130148', 'rurdluurdd', 4782), ('2534101179610813141512', 'uldrdrurdd', 4705), ('1273564891011121301415', 'rruulurddd', 3948)]\n"
          ]
        }
      ]
    },
    {
      "cell_type": "markdown",
      "source": [
        "#Results:\n",
        "#4x4 5 Steps\n",
        "['d', 'd', 'l', 'l', 'u', 'l', 'd', 'r', 'r', 'r']\n",
        "-----------------------\n",
        "[1, 2, 3, 4, 5, 6, 7, 0, 10, 13, 11, 8, 9, 14, 15, 12]\n",
        "\n",
        "[1, 2, 3, 4, 5, 6, 7, 8, 9, 10, 11, 12, 13, 14, 15, 0]\n",
        "Length of solution:  10\n",
        "Nodes Expanded= 2716\n",
        "-----------------------\n",
        "['r', 'u', 'u', 'l', 'l', 'd', 'd', 'r', 'r', 'd']\n",
        "-----------------------\n",
        "[1, 3, 4, 8, 5, 2, 7, 11, 9, 6, 0, 10, 13, 14, 15, 12]\n",
        "\n",
        "[1, 2, 3, 4, 5, 6, 7, 8, 9, 10, 11, 12, 13, 14, 15, 0]\n",
        "Length of solution:  10\n",
        "Nodes Expanded= 5710\n",
        "-----------------------\n",
        "['d', 'r', 'r', 'r', 'u', 'u', 'l', 'd', 'r', 'd']\n",
        "-----------------------\n",
        "[1, 2, 3, 4, 5, 6, 8, 11, 0, 10, 7, 12, 9, 13, 14, 15]\n",
        "\n",
        "[1, 2, 3, 4, 5, 6, 7, 8, 9, 10, 11, 12, 13, 14, 15, 0]\n",
        "Length of solution:  10\n",
        "Nodes Expanded= 3509\n",
        "-----------------------\n",
        "-------\n",
        "[('1234567010131189141512', 'ddlluldrrr', 2716), ('1348527119601013141512', 'ruullddrrd', 5710), ('1234568110107129131415', 'drrruuldrd', 3509)]\n",
        "\n",
        "#4x4 10 Steps\n",
        "['u', 'r', 'r', 'd', 'l', 'd', 'l', 'd', 'r', 'r']\n",
        "-----------------------\n",
        "[1, 6, 2, 3, 5, 0, 8, 4, 9, 11, 7, 12, 13, 10, 14, 15]\n",
        "\n",
        "[1, 2, 3, 4, 5, 6, 7, 8, 9, 10, 11, 12, 13, 14, 15, 0]\n",
        "Length of solution:  10\n",
        "Nodes Expanded= 4638\n",
        "-----------------------\n",
        "['r', 'u', 'u', 'l', 'd', 'r', 'd', 'l', 'd', 'r']\n",
        "-----------------------\n",
        "[1, 2, 4, 7, 5, 6, 3, 8, 9, 10, 0, 12, 13, 14, 11, 15]\n",
        "\n",
        "[1, 2, 3, 4, 5, 6, 7, 8, 9, 10, 11, 12, 13, 14, 15, 0]\n",
        "Length of solution:  10\n",
        "Nodes Expanded= 4442\n",
        "-----------------------\n",
        "['l', 'l', 'd', 'd', 'r', 'u', 'r', 'd', 'r', 'd']\n",
        "-----------------------\n",
        "[2, 3, 0, 4, 1, 10, 6, 8, 5, 9, 7, 11, 13, 14, 15, 12]\n",
        "\n",
        "[1, 2, 3, 4, 5, 6, 7, 8, 9, 10, 11, 12, 13, 14, 15, 0]\n",
        "Length of solution:  10\n",
        "Nodes Expanded= 3510\n",
        "-----------------------\n",
        "-------\n",
        "[('1623508491171213101415', 'urrdldldrr', 4638), ('1247563891001213141115', 'ruuldrdldr', 4442), ('2304110685971113141512', 'llddrurdrd', 3510)]\n",
        "\n",
        "#4x4 20 Steps\n",
        "['d', 'd', 'l', 'l', 'u', 'l', 'd', 'r', 'r', 'r']\n",
        "-----------------------\n",
        "[1, 2, 3, 4, 5, 6, 7, 0, 10, 13, 11, 8, 9, 14, 15, 12]\n",
        "\n",
        "[1, 2, 3, 4, 5, 6, 7, 8, 9, 10, 11, 12, 13, 14, 15, 0]\n",
        "Length of solution:  10\n",
        "Nodes Expanded= 2716\n",
        "-----------------------\n",
        "['r', 'u', 'u', 'l', 'l', 'd', 'd', 'r', 'r', 'd']\n",
        "-----------------------\n",
        "[1, 3, 4, 8, 5, 2, 7, 11, 9, 6, 0, 10, 13, 14, 15, 12]\n",
        "\n",
        "[1, 2, 3, 4, 5, 6, 7, 8, 9, 10, 11, 12, 13, 14, 15, 0]\n",
        "Length of solution:  10\n",
        "Nodes Expanded= 5710\n",
        "-----------------------\n",
        "['d', 'r', 'r', 'r', 'u', 'u', 'l', 'd', 'r', 'd']\n",
        "-----------------------\n",
        "[1, 2, 3, 4, 5, 6, 8, 11, 0, 10, 7, 12, 9, 13, 14, 15]\n",
        "\n",
        "[1, 2, 3, 4, 5, 6, 7, 8, 9, 10, 11, 12, 13, 14, 15, 0]\n",
        "Length of solution:  10\n",
        "Nodes Expanded= 3509\n",
        "-----------------------\n",
        "-------\n",
        "[('1234567010131189141512', 'ddlluldrrr', 2716), ('1348527119601013141512', 'ruullddrrd', 5710), ('1234568110107129131415', 'drrruuldrd', 3509)]\n",
        "\n",
        "#4x4 40 Steps\n",
        "['l', 'u', 'l', 'u', 'l', 'd', 'd', 'r', 'r', 'r']\n",
        "-----------------------\n",
        "[1, 2, 3, 4, 6, 10, 7, 8, 5, 11, 14, 12, 9, 13, 15, 0]\n",
        "\n",
        "[1, 2, 3, 4, 5, 6, 7, 8, 9, 10, 11, 12, 13, 14, 15, 0]\n",
        "Length of solution:  10\n",
        "Nodes Expanded= 3682\n",
        "-----------------------\n",
        "['l', 'u', 'u', 'u', 'r', 'r', 'd', 'r', 'd', 'd']\n",
        "-----------------------\n",
        "[5, 1, 2, 4, 9, 6, 3, 7, 13, 10, 11, 8, 14, 0, 15, 12]\n",
        "\n",
        "[1, 2, 3, 4, 5, 6, 7, 8, 9, 10, 11, 12, 13, 14, 15, 0]\n",
        "Length of solution:  10\n",
        "Nodes Expanded= 3411\n",
        "-----------------------\n",
        "['l', 'l', 'd', 'd', 'r', 'd', 'r', 'u', 'r', 'd']\n",
        "-----------------------\n",
        "[2, 3, 0, 4, 1, 6, 7, 8, 5, 9, 15, 11, 13, 10, 14, 12]\n",
        "\n",
        "[1, 2, 3, 4, 5, 6, 7, 8, 9, 10, 11, 12, 13, 14, 15, 0]\n",
        "Length of solution:  10\n",
        "Nodes Expanded= 3239\n",
        "-----------------------\n",
        "-------\n",
        "[('1234610785111412913150', 'lululddrrr', 3682), ('5124963713101181401512', 'luuurrdrdd', 3411), ('2304167859151113101412', 'llddrdrurd', 3239)]\n",
        "\n",
        "#4x4 80 Steps\n",
        "['r', 'u', 'r', 'd', 'l', 'u', 'u', 'r', 'd', 'd']\n",
        "-----------------------\n",
        "[1, 2, 3, 4, 5, 6, 11, 7, 9, 10, 12, 15, 13, 0, 14, 8]\n",
        "\n",
        "[1, 2, 3, 4, 5, 6, 7, 8, 9, 10, 11, 12, 13, 14, 15, 0]\n",
        "Length of solution:  10\n",
        "Nodes Expanded= 4782\n",
        "-----------------------\n",
        "['u', 'l', 'd', 'r', 'd', 'r', 'u', 'r', 'd', 'd']\n",
        "-----------------------\n",
        "[2, 5, 3, 4, 1, 0, 11, 7, 9, 6, 10, 8, 13, 14, 15, 12]\n",
        "\n",
        "[1, 2, 3, 4, 5, 6, 7, 8, 9, 10, 11, 12, 13, 14, 15, 0]\n",
        "Length of solution:  10\n",
        "Nodes Expanded= 4705\n",
        "-----------------------\n",
        "['r', 'r', 'u', 'u', 'l', 'u', 'r', 'd', 'd', 'd']\n",
        "-----------------------\n",
        "[1, 2, 7, 3, 5, 6, 4, 8, 9, 10, 11, 12, 13, 0, 14, 15]\n",
        "\n",
        "[1, 2, 3, 4, 5, 6, 7, 8, 9, 10, 11, 12, 13, 14, 15, 0]\n",
        "Length of solution:  10\n",
        "Nodes Expanded= 3948\n",
        "-----------------------\n",
        "-------\n",
        "[('1234561179101215130148', 'rurdluurdd', 4782), ('2534101179610813141512', 'uldrdrurdd', 4705), ('1273564891011121301415', 'rruulurddd', 3948)]"
      ],
      "metadata": {
        "id": "dZYvXJc_wDRc"
      }
    },
    {
      "cell_type": "markdown",
      "metadata": {
        "id": "p8yiFsHoU6sf"
      },
      "source": [
        "### AStar using ManhattanDistance w/ Test Problems"
      ]
    },
    {
      "cell_type": "code",
      "metadata": {
        "colab": {
          "base_uri": "https://localhost:8080/"
        },
        "id": "6VD8LuUJRhxU",
        "outputId": "a9d128e5-5b86-4678-fd93-edc63f96a25b"
      },
      "source": [
        "AStarFb = lambda n: n.PathCost + Manhattan(n.State, GoalState)\n",
        "\n",
        "Solutions = []\n",
        "for s in problemList:\n",
        "  TileSliding.INITIAL = s\n",
        "  ret, cost = BestFirstSearch(TileSliding, AStarF)\n",
        "  sol = Solution(ret)\n",
        "  print (sol)\n",
        "  print (\"-----------------------\")\n",
        "  print (TileSliding.INITIAL,'\\n')\n",
        "  print (ApplyMoves(sol, TileSliding.INITIAL))\n",
        "  print (\"Length of solution: \", len(sol))\n",
        "  print (\"Nodes Expanded=\", cost)\n",
        "  print (\"-----------------------\")\n",
        "  Solutions.append((''.join(map(str, s)), ''.join(sol), cost))\n",
        "print (\"-------\")\n",
        "print (Solutions)"
      ],
      "execution_count": 153,
      "outputs": [
        {
          "output_type": "stream",
          "name": "stdout",
          "text": [
            "['r', 'u', 'r', 'd', 'l', 'u', 'u', 'r', 'd', 'd']\n",
            "-----------------------\n",
            "[1, 2, 3, 4, 5, 6, 11, 7, 9, 10, 12, 15, 13, 0, 14, 8] \n",
            "\n",
            "[1, 2, 3, 4, 5, 6, 7, 8, 9, 10, 11, 12, 13, 14, 15, 0]\n",
            "Length of solution:  10\n",
            "Nodes Expanded= 21\n",
            "-----------------------\n",
            "['u', 'l', 'd', 'r', 'd', 'r', 'u', 'r', 'd', 'd']\n",
            "-----------------------\n",
            "[2, 5, 3, 4, 1, 0, 11, 7, 9, 6, 10, 8, 13, 14, 15, 12] \n",
            "\n",
            "[1, 2, 3, 4, 5, 6, 7, 8, 9, 10, 11, 12, 13, 14, 15, 0]\n",
            "Length of solution:  10\n",
            "Nodes Expanded= 16\n",
            "-----------------------\n",
            "['r', 'r', 'u', 'u', 'l', 'u', 'r', 'd', 'd', 'd']\n",
            "-----------------------\n",
            "[1, 2, 7, 3, 5, 6, 4, 8, 9, 10, 11, 12, 13, 0, 14, 15] \n",
            "\n",
            "[1, 2, 3, 4, 5, 6, 7, 8, 9, 10, 11, 12, 13, 14, 15, 0]\n",
            "Length of solution:  10\n",
            "Nodes Expanded= 23\n",
            "-----------------------\n",
            "-------\n",
            "[('1234561179101215130148', 'rurdluurdd', 21), ('2534101179610813141512', 'uldrdrurdd', 16), ('1273564891011121301415', 'rruulurddd', 23)]\n"
          ]
        }
      ]
    },
    {
      "cell_type": "markdown",
      "source": [
        "#Results\n",
        "#4x4 5 Steps\n",
        "['d', 'd', 'l', 'l', 'u', 'l', 'd', 'r', 'r', 'r']\n",
        "-----------------------\n",
        "[1, 2, 3, 4, 5, 6, 7, 0, 10, 13, 11, 8, 9, 14, 15, 12]\n",
        "\n",
        "[1, 2, 3, 4, 5, 6, 7, 8, 9, 10, 11, 12, 13, 14, 15, 0]\n",
        "Length of solution:  10\n",
        "Nodes Expanded= 23\n",
        "-----------------------\n",
        "['r', 'u', 'u', 'l', 'l', 'd', 'd', 'r', 'r', 'd']\n",
        "-----------------------\n",
        "[1, 3, 4, 8, 5, 2, 7, 11, 9, 6, 0, 10, 13, 14, 15, 12]\n",
        "\n",
        "[1, 2, 3, 4, 5, 6, 7, 8, 9, 10, 11, 12, 13, 14, 15, 0]\n",
        "Length of solution:  10\n",
        "Nodes Expanded= 11\n",
        "-----------------------\n",
        "['d', 'r', 'r', 'r', 'u', 'u', 'l', 'd', 'r', 'd']\n",
        "-----------------------\n",
        "[1, 2, 3, 4, 5, 6, 8, 11, 0, 10, 7, 12, 9, 13, 14, 15]\n",
        "\n",
        "[1, 2, 3, 4, 5, 6, 7, 8, 9, 10, 11, 12, 13, 14, 15, 0]\n",
        "Length of solution:  10\n",
        "Nodes Expanded= 14\n",
        "-----------------------\n",
        "-------\n",
        "[('1234567010131189141512', 'ddlluldrrr', 23), ('1348527119601013141512', 'ruullddrrd', 11), ('1234568110107129131415', 'drrruuldrd', 14)]\n",
        "\n",
        "#4x4 10 Steps\n",
        "['u', 'r', 'r', 'd', 'l', 'd', 'l', 'd', 'r', 'r']\n",
        "-----------------------\n",
        "[1, 6, 2, 3, 5, 0, 8, 4, 9, 11, 7, 12, 13, 10, 14, 15]\n",
        "\n",
        "[1, 2, 3, 4, 5, 6, 7, 8, 9, 10, 11, 12, 13, 14, 15, 0]\n",
        "Length of solution:  10\n",
        "Nodes Expanded= 10\n",
        "-----------------------\n",
        "['d', 'r', 'u', 'u', 'u', 'l', 'd', 'r', 'd', 'd']\n",
        "-----------------------\n",
        "[1, 2, 4, 7, 5, 6, 3, 8, 9, 10, 0, 12, 13, 14, 11, 15]\n",
        "\n",
        "[1, 2, 3, 4, 5, 6, 7, 8, 9, 10, 11, 12, 13, 14, 15, 0]\n",
        "Length of solution:  10\n",
        "Nodes Expanded= 35\n",
        "-----------------------\n",
        "['l', 'l', 'd', 'd', 'r', 'u', 'r', 'd', 'r', 'd']\n",
        "-----------------------\n",
        "[2, 3, 0, 4, 1, 10, 6, 8, 5, 9, 7, 11, 13, 14, 15, 12]\n",
        "\n",
        "[1, 2, 3, 4, 5, 6, 7, 8, 9, 10, 11, 12, 13, 14, 15, 0]\n",
        "Length of solution:  10\n",
        "Nodes Expanded= 10\n",
        "-----------------------\n",
        "-------\n",
        "[('1623508491171213101415', 'urrdldldrr', 10), ('1247563891001213141115', 'druuuldrdd', 35), ('2304110685971113141512', 'llddrurdrd', 10)]\n",
        "#4x4 20 Steps\n",
        "['d', 'd', 'l', 'l', 'u', 'l', 'd', 'r', 'r', 'r']\n",
        "-----------------------\n",
        "[1, 2, 3, 4, 5, 6, 7, 0, 10, 13, 11, 8, 9, 14, 15, 12]\n",
        "\n",
        "[1, 2, 3, 4, 5, 6, 7, 8, 9, 10, 11, 12, 13, 14, 15, 0]\n",
        "Length of solution:  10\n",
        "Nodes Expanded= 23\n",
        "-----------------------\n",
        "['r', 'u', 'u', 'l', 'l', 'd', 'd', 'r', 'r', 'd']\n",
        "-----------------------\n",
        "[1, 3, 4, 8, 5, 2, 7, 11, 9, 6, 0, 10, 13, 14, 15, 12]\n",
        "\n",
        "[1, 2, 3, 4, 5, 6, 7, 8, 9, 10, 11, 12, 13, 14, 15, 0]\n",
        "Length of solution:  10\n",
        "Nodes Expanded= 11\n",
        "-----------------------\n",
        "['d', 'r', 'r', 'r', 'u', 'u', 'l', 'd', 'r', 'd']\n",
        "-----------------------\n",
        "[1, 2, 3, 4, 5, 6, 8, 11, 0, 10, 7, 12, 9, 13, 14, 15]\n",
        "\n",
        "[1, 2, 3, 4, 5, 6, 7, 8, 9, 10, 11, 12, 13, 14, 15, 0]\n",
        "Length of solution:  10\n",
        "Nodes Expanded= 14\n",
        "-----------------------\n",
        "-------\n",
        "[('1234567010131189141512', 'ddlluldrrr', 23), ('1348527119601013141512', 'ruullddrrd', 11), ('1234568110107129131415', 'drrruuldrd', 14)]\n",
        "\n",
        "#4x4 40 Steps\n",
        "['l', 'u', 'l', 'u', 'l', 'd', 'd', 'r', 'r', 'r']\n",
        "-----------------------\n",
        "[1, 2, 3, 4, 6, 10, 7, 8, 5, 11, 14, 12, 9, 13, 15, 0]\n",
        "\n",
        "[1, 2, 3, 4, 5, 6, 7, 8, 9, 10, 11, 12, 13, 14, 15, 0]\n",
        "Length of solution:  10\n",
        "Nodes Expanded= 11\n",
        "-----------------------\n",
        "['l', 'u', 'u', 'u', 'r', 'r', 'd', 'r', 'd', 'd']\n",
        "-----------------------\n",
        "[5, 1, 2, 4, 9, 6, 3, 7, 13, 10, 11, 8, 14, 0, 15, 12]\n",
        "\n",
        "[1, 2, 3, 4, 5, 6, 7, 8, 9, 10, 11, 12, 13, 14, 15, 0]\n",
        "Length of solution:  10\n",
        "Nodes Expanded= 10\n",
        "-----------------------\n",
        "['l', 'l', 'd', 'd', 'r', 'd', 'r', 'u', 'r', 'd']\n",
        "-----------------------\n",
        "[2, 3, 0, 4, 1, 6, 7, 8, 5, 9, 15, 11, 13, 10, 14, 12]\n",
        "\n",
        "[1, 2, 3, 4, 5, 6, 7, 8, 9, 10, 11, 12, 13, 14, 15, 0]\n",
        "Length of solution:  10\n",
        "Nodes Expanded= 10\n",
        "-----------------------\n",
        "-------\n",
        "[('1234610785111412913150', 'lululddrrr', 11), ('5124963713101181401512', 'luuurrdrdd', 10), ('2304167859151113101412', 'llddrdrurd', 10)]\n",
        "\n",
        "#4x4 80 Steps\n",
        "['r', 'u', 'r', 'd', 'l', 'u', 'u', 'r', 'd', 'd']\n",
        "-----------------------\n",
        "[1, 2, 3, 4, 5, 6, 11, 7, 9, 10, 12, 15, 13, 0, 14, 8]\n",
        "\n",
        "[1, 2, 3, 4, 5, 6, 7, 8, 9, 10, 11, 12, 13, 14, 15, 0]\n",
        "Length of solution:  10\n",
        "Nodes Expanded= 21\n",
        "-----------------------\n",
        "['u', 'l', 'd', 'r', 'd', 'r', 'u', 'r', 'd', 'd']\n",
        "-----------------------\n",
        "[2, 5, 3, 4, 1, 0, 11, 7, 9, 6, 10, 8, 13, 14, 15, 12]\n",
        "\n",
        "[1, 2, 3, 4, 5, 6, 7, 8, 9, 10, 11, 12, 13, 14, 15, 0]\n",
        "Length of solution:  10\n",
        "Nodes Expanded= 16\n",
        "-----------------------\n",
        "['r', 'r', 'u', 'u', 'l', 'u', 'r', 'd', 'd', 'd']\n",
        "-----------------------\n",
        "[1, 2, 7, 3, 5, 6, 4, 8, 9, 10, 11, 12, 13, 0, 14, 15]\n",
        "\n",
        "[1, 2, 3, 4, 5, 6, 7, 8, 9, 10, 11, 12, 13, 14, 15, 0]\n",
        "Length of solution:  10\n",
        "Nodes Expanded= 23\n",
        "-----------------------\n",
        "-------\n",
        "[('1234561179101215130148', 'rurdluurdd', 21), ('2534101179610813141512', 'uldrdrurdd', 16), ('1273564891011121301415', 'rruulurddd', 23)]"
      ],
      "metadata": {
        "id": "JTHbl-yTvQ0o"
      }
    },
    {
      "cell_type": "markdown",
      "metadata": {
        "id": "dluzNjyYVBSl"
      },
      "source": [
        "### AStar using OutOfPlace w/ Test Problems"
      ]
    },
    {
      "cell_type": "code",
      "metadata": {
        "colab": {
          "base_uri": "https://localhost:8080/"
        },
        "id": "m7icYl-JUGbR",
        "outputId": "57696100-5e07-4534-9650-5a644a707897"
      },
      "source": [
        "AStarFb = lambda n: n.PathCost + OutOfPlace(n.State, GoalState)\n",
        "\n",
        "Solutions = []\n",
        "for s in problemList:\n",
        "  TileSliding.INITIAL = s\n",
        "  ret, cost = BestFirstSearch(TileSliding, AStarFb)\n",
        "  sol = Solution(ret)\n",
        "  print (sol)\n",
        "  print (\"-----------------------\")\n",
        "  print (TileSliding.INITIAL,'\\n')\n",
        "  print (ApplyMoves(sol, TileSliding.INITIAL))\n",
        "  print (\"Length of solution: \", len(sol))\n",
        "  print (\"Nodes Expanded=\", cost)\n",
        "  print (\"-----------------------\")\n",
        "  Solutions.append((''.join(map(str, s)), ''.join(sol), cost))\n",
        "print (\"-------\")\n",
        "print (Solutions)"
      ],
      "execution_count": 154,
      "outputs": [
        {
          "output_type": "stream",
          "name": "stdout",
          "text": [
            "['r', 'u', 'r', 'd', 'l', 'u', 'u', 'r', 'd', 'd']\n",
            "-----------------------\n",
            "[1, 2, 3, 4, 5, 6, 11, 7, 9, 10, 12, 15, 13, 0, 14, 8] \n",
            "\n",
            "[1, 2, 3, 4, 5, 6, 7, 8, 9, 10, 11, 12, 13, 14, 15, 0]\n",
            "Length of solution:  10\n",
            "Nodes Expanded= 47\n",
            "-----------------------\n",
            "['u', 'l', 'd', 'r', 'd', 'r', 'u', 'r', 'd', 'd']\n",
            "-----------------------\n",
            "[2, 5, 3, 4, 1, 0, 11, 7, 9, 6, 10, 8, 13, 14, 15, 12] \n",
            "\n",
            "[1, 2, 3, 4, 5, 6, 7, 8, 9, 10, 11, 12, 13, 14, 15, 0]\n",
            "Length of solution:  10\n",
            "Nodes Expanded= 23\n",
            "-----------------------\n",
            "['r', 'r', 'u', 'u', 'l', 'u', 'r', 'd', 'd', 'd']\n",
            "-----------------------\n",
            "[1, 2, 7, 3, 5, 6, 4, 8, 9, 10, 11, 12, 13, 0, 14, 15] \n",
            "\n",
            "[1, 2, 3, 4, 5, 6, 7, 8, 9, 10, 11, 12, 13, 14, 15, 0]\n",
            "Length of solution:  10\n",
            "Nodes Expanded= 40\n",
            "-----------------------\n",
            "-------\n",
            "[('1234561179101215130148', 'rurdluurdd', 47), ('2534101179610813141512', 'uldrdrurdd', 23), ('1273564891011121301415', 'rruulurddd', 40)]\n"
          ]
        }
      ]
    },
    {
      "cell_type": "markdown",
      "source": [
        "#Results:\n",
        "#4x4 5 Steps\n",
        "['u', 'r', 'r', 'd', 'l', 'd', 'l', 'd', 'r', 'r']\n",
        "-----------------------\n",
        "[1, 6, 2, 3, 5, 0, 8, 4, 9, 11, 7, 12, 13, 10, 14, 15]\n",
        "\n",
        "[1, 2, 3, 4, 5, 6, 7, 8, 9, 10, 11, 12, 13, 14, 15, 0]\n",
        "Length of solution:  10\n",
        "Nodes Expanded= 10\n",
        "-----------------------\n",
        "['r', 'u', 'u', 'l', 'd', 'r', 'd', 'l', 'd', 'r']\n",
        "-----------------------\n",
        "[1, 2, 4, 7, 5, 6, 3, 8, 9, 10, 0, 12, 13, 14, 11, 15]\n",
        "\n",
        "[1, 2, 3, 4, 5, 6, 7, 8, 9, 10, 11, 12, 13, 14, 15, 0]\n",
        "Length of solution:  10\n",
        "Nodes Expanded= 51\n",
        "-----------------------\n",
        "['l', 'l', 'd', 'd', 'r', 'u', 'r', 'd', 'r', 'd']\n",
        "-----------------------\n",
        "[2, 3, 0, 4, 1, 10, 6, 8, 5, 9, 7, 11, 13, 14, 15, 12]\n",
        "\n",
        "[1, 2, 3, 4, 5, 6, 7, 8, 9, 10, 11, 12, 13, 14, 15, 0]\n",
        "Length of solution:  10\n",
        "Nodes Expanded= 10\n",
        "-----------------------\n",
        "-------\n",
        "[('1623508491171213101415', 'urrdldldrr', 10), ('1247563891001213141115', 'ruuldrdldr', 51), ('2304110685971113141512', 'llddrurdrd', 10)]\n",
        "\n",
        "#4x4 10 Steps\n",
        "['u', 'r', 'r', 'd', 'l', 'd', 'l', 'd', 'r', 'r']\n",
        "-----------------------\n",
        "[1, 6, 2, 3, 5, 0, 8, 4, 9, 11, 7, 12, 13, 10, 14, 15]\n",
        "\n",
        "[1, 2, 3, 4, 5, 6, 7, 8, 9, 10, 11, 12, 13, 14, 15, 0]\n",
        "Length of solution:  10\n",
        "Nodes Expanded= 10\n",
        "-----------------------\n",
        "['r', 'u', 'u', 'l', 'd', 'r', 'd', 'l', 'd', 'r']\n",
        "-----------------------\n",
        "[1, 2, 4, 7, 5, 6, 3, 8, 9, 10, 0, 12, 13, 14, 11, 15]\n",
        "\n",
        "[1, 2, 3, 4, 5, 6, 7, 8, 9, 10, 11, 12, 13, 14, 15, 0]\n",
        "Length of solution:  10\n",
        "Nodes Expanded= 51\n",
        "-----------------------\n",
        "['l', 'l', 'd', 'd', 'r', 'u', 'r', 'd', 'r', 'd']\n",
        "-----------------------\n",
        "[2, 3, 0, 4, 1, 10, 6, 8, 5, 9, 7, 11, 13, 14, 15, 12]\n",
        "\n",
        "[1, 2, 3, 4, 5, 6, 7, 8, 9, 10, 11, 12, 13, 14, 15, 0]\n",
        "Length of solution:  10\n",
        "Nodes Expanded= 10\n",
        "-----------------------\n",
        "-------\n",
        "[('1623508491171213101415', 'urrdldldrr', 10), ('1247563891001213141115', 'ruuldrdldr', 51), ('2304110685971113141512', 'llddrurdrd', 10)]\n",
        "\n",
        "#4x4 20 Steps\n",
        "['u', 'r', 'r', 'd', 'l', 'd', 'l', 'd', 'r', 'r']\n",
        "-----------------------\n",
        "[1, 6, 2, 3, 5, 0, 8, 4, 9, 11, 7, 12, 13, 10, 14, 15]\n",
        "\n",
        "[1, 2, 3, 4, 5, 6, 7, 8, 9, 10, 11, 12, 13, 14, 15, 0]\n",
        "Length of solution:  10\n",
        "Nodes Expanded= 10\n",
        "-----------------------\n",
        "['r', 'u', 'u', 'l', 'd', 'r', 'd', 'l', 'd', 'r']\n",
        "-----------------------\n",
        "[1, 2, 4, 7, 5, 6, 3, 8, 9, 10, 0, 12, 13, 14, 11, 15]\n",
        "\n",
        "[1, 2, 3, 4, 5, 6, 7, 8, 9, 10, 11, 12, 13, 14, 15, 0]\n",
        "Length of solution:  10\n",
        "Nodes Expanded= 51\n",
        "-----------------------\n",
        "['l', 'l', 'd', 'd', 'r', 'u', 'r', 'd', 'r', 'd']\n",
        "-----------------------\n",
        "[2, 3, 0, 4, 1, 10, 6, 8, 5, 9, 7, 11, 13, 14, 15, 12]\n",
        "\n",
        "[1, 2, 3, 4, 5, 6, 7, 8, 9, 10, 11, 12, 13, 14, 15, 0]\n",
        "Length of solution:  10\n",
        "Nodes Expanded= 10\n",
        "-----------------------\n",
        "-------\n",
        "[('1623508491171213101415', 'urrdldldrr', 10), ('1247563891001213141115', 'ruuldrdldr', 51), ('2304110685971113141512', 'llddrurdrd', 10)]\n",
        "\n",
        "#4x4 40 Steps\n",
        "['l', 'u', 'l', 'u', 'l', 'd', 'd', 'r', 'r', 'r']\n",
        "-----------------------\n",
        "[1, 2, 3, 4, 6, 10, 7, 8, 5, 11, 14, 12, 9, 13, 15, 0]\n",
        "\n",
        "[1, 2, 3, 4, 5, 6, 7, 8, 9, 10, 11, 12, 13, 14, 15, 0]\n",
        "Length of solution:  10\n",
        "Nodes Expanded= 19\n",
        "-----------------------\n",
        "['l', 'u', 'u', 'u', 'r', 'r', 'd', 'r', 'd', 'd']\n",
        "-----------------------\n",
        "[5, 1, 2, 4, 9, 6, 3, 7, 13, 10, 11, 8, 14, 0, 15, 12]\n",
        "\n",
        "[1, 2, 3, 4, 5, 6, 7, 8, 9, 10, 11, 12, 13, 14, 15, 0]\n",
        "Length of solution:  10\n",
        "Nodes Expanded= 10\n",
        "-----------------------\n",
        "['l', 'l', 'd', 'd', 'r', 'd', 'r', 'u', 'r', 'd']\n",
        "-----------------------\n",
        "[2, 3, 0, 4, 1, 6, 7, 8, 5, 9, 15, 11, 13, 10, 14, 12]\n",
        "\n",
        "[1, 2, 3, 4, 5, 6, 7, 8, 9, 10, 11, 12, 13, 14, 15, 0]\n",
        "Length of solution:  10\n",
        "Nodes Expanded= 10\n",
        "-----------------------\n",
        "-------\n",
        "[('1234610785111412913150', 'lululddrrr', 19), ('5124963713101181401512', 'luuurrdrdd', 10), ('2304167859151113101412', 'llddrdrurd', 10)]\n",
        "\n",
        "#4x4 80 Steps\n",
        "['r', 'u', 'r', 'd', 'l', 'u', 'u', 'r', 'd', 'd']\n",
        "-----------------------\n",
        "[1, 2, 3, 4, 5, 6, 11, 7, 9, 10, 12, 15, 13, 0, 14, 8]\n",
        "\n",
        "[1, 2, 3, 4, 5, 6, 7, 8, 9, 10, 11, 12, 13, 14, 15, 0]\n",
        "Length of solution:  10\n",
        "Nodes Expanded= 47\n",
        "-----------------------\n",
        "['u', 'l', 'd', 'r', 'd', 'r', 'u', 'r', 'd', 'd']\n",
        "-----------------------\n",
        "[2, 5, 3, 4, 1, 0, 11, 7, 9, 6, 10, 8, 13, 14, 15, 12]\n",
        "\n",
        "[1, 2, 3, 4, 5, 6, 7, 8, 9, 10, 11, 12, 13, 14, 15, 0]\n",
        "Length of solution:  10\n",
        "Nodes Expanded= 23\n",
        "-----------------------\n",
        "['r', 'r', 'u', 'u', 'l', 'u', 'r', 'd', 'd', 'd']\n",
        "-----------------------\n",
        "[1, 2, 7, 3, 5, 6, 4, 8, 9, 10, 11, 12, 13, 0, 14, 15]\n",
        "\n",
        "[1, 2, 3, 4, 5, 6, 7, 8, 9, 10, 11, 12, 13, 14, 15, 0]\n",
        "Length of solution:  10\n",
        "Nodes Expanded= 40\n",
        "-----------------------\n",
        "-------\n",
        "[('1234561179101215130148', 'rurdluurdd', 47), ('2534101179610813141512', 'uldrdrurdd', 23), ('1273564891011121301415', 'rruulurddd', 40)]"
      ],
      "metadata": {
        "id": "g03nMf0xwJU-"
      }
    },
    {
      "cell_type": "markdown",
      "metadata": {
        "id": "TEBWJx6DwN-r"
      },
      "source": [
        "### Best First Search -- Greedy"
      ]
    },
    {
      "cell_type": "code",
      "metadata": {
        "colab": {
          "base_uri": "https://localhost:8080/"
        },
        "id": "fI27-Y5ivXdw",
        "outputId": "7f3f6236-9033-478d-a46e-a06a7c10b367"
      },
      "source": [
        "### Best First\n",
        "bestFirstSearchf = lambda n: OutOfPlace(n.State, GoalState)\n",
        "\n",
        "Solutions = []\n",
        "for s in problemList:\n",
        "  TileSliding.INITIAL = s\n",
        "  ret, cost = BestFirstSearch(TileSliding, bestFirstSearchf)\n",
        "  sol = Solution(ret)\n",
        "  print (sol)\n",
        "  print (\"-----------------------\")\n",
        "  print (TileSliding.INITIAL,'\\n')\n",
        "  print (ApplyMoves(sol, TileSliding.INITIAL))\n",
        "  print (\"Length of solution: \", len(sol))\n",
        "  print (\"Nodes Expanded=\", cost)\n",
        "  print (\"-----------------------\")\n",
        "  Solutions.append((''.join(map(str, s)), ''.join(sol), cost))\n",
        "print (\"-------\")\n",
        "print (Solutions)"
      ],
      "execution_count": 174,
      "outputs": [
        {
          "output_type": "stream",
          "name": "stdout",
          "text": [
            "['r', 'r', 'd', 'r', 'u', 'l', 'd', 'r', 'd', 'd']\n",
            "-----------------------\n",
            "[0, 1, 2, 7, 5, 6, 4, 3, 9, 10, 11, 8, 13, 14, 15, 12] \n",
            "\n",
            "[1, 2, 3, 4, 5, 6, 7, 8, 9, 10, 11, 12, 13, 14, 15, 0]\n",
            "Length of solution:  10\n",
            "Nodes Expanded= 18\n",
            "-----------------------\n",
            "['d', 'l', 'u', 'l', 'd', 'r', 'd', 'r', 'r', 'd']\n",
            "-----------------------\n",
            "[2, 5, 0, 4, 1, 7, 3, 8, 9, 6, 10, 11, 13, 14, 15, 12] \n",
            "\n",
            "[1, 2, 3, 4, 5, 6, 7, 8, 9, 10, 11, 12, 13, 14, 15, 0]\n",
            "Length of solution:  10\n",
            "Nodes Expanded= 33\n",
            "-----------------------\n",
            "['r', 'r', 'd', 'd', 'l', 'l', 'u', 'l', 'u', 'r', 'd', 'd', 'l', 'u', 'r', 'u', 'l', 'd', 'd', 'r', 'r', 'u', 'l', 'd', 'l', 'u', 'r', 'r', 'd', 'l', 'u', 'l', 'd', 'r', 'r', 'r']\n",
            "-----------------------\n",
            "[1, 2, 3, 4, 9, 0, 6, 7, 13, 5, 11, 8, 14, 10, 15, 12] \n",
            "\n",
            "[1, 2, 3, 4, 5, 6, 7, 8, 9, 10, 11, 12, 13, 14, 15, 0]\n",
            "Length of solution:  36\n",
            "Nodes Expanded= 401\n",
            "-----------------------\n",
            "-------\n",
            "[('0127564391011813141512', 'rrdruldrdd', 18), ('2504173896101113141512', 'dluldrdrrd', 33), ('1234906713511814101512', 'rrddllulurddlurulddrruldlurrdluldrrr', 401)]\n"
          ]
        }
      ]
    },
    {
      "cell_type": "markdown",
      "source": [
        "#Results\n",
        "#4x4 5 Steps\n",
        "['r', 'r', 'd', 'r', 'u', 'l', 'd', 'r', 'd', 'd']\n",
        "-----------------------\n",
        "[0, 1, 2, 7, 5, 6, 4, 3, 9, 10, 11, 8, 13, 14, 15, 12]\n",
        "\n",
        "[1, 2, 3, 4, 5, 6, 7, 8, 9, 10, 11, 12, 13, 14, 15, 0]\n",
        "Length of solution:  10\n",
        "Nodes Expanded= 18\n",
        "-----------------------\n",
        "['d', 'l', 'u', 'l', 'd', 'r', 'd', 'r', 'r', 'd']\n",
        "-----------------------\n",
        "[2, 5, 0, 4, 1, 7, 3, 8, 9, 6, 10, 11, 13, 14, 15, 12]\n",
        "\n",
        "[1, 2, 3, 4, 5, 6, 7, 8, 9, 10, 11, 12, 13, 14, 15, 0]\n",
        "Length of solution:  10\n",
        "Nodes Expanded= 33\n",
        "-----------------------\n",
        "['r', 'r', 'd', 'd', 'l', 'l', 'u', 'l', 'u', 'r', 'd', 'd', 'l', 'u', 'r', 'u', 'l', 'd', 'd', 'r', 'r', 'u', 'l', 'd', 'l', 'u', 'r', 'r', 'd', 'l', 'u', 'l', 'd', 'r', 'r', 'r']\n",
        "-----------------------\n",
        "[1, 2, 3, 4, 9, 0, 6, 7, 13, 5, 11, 8, 14, 10, 15, 12]\n",
        "\n",
        "[1, 2, 3, 4, 5, 6, 7, 8, 9, 10, 11, 12, 13, 14, 15, 0]\n",
        "Length of solution:  36\n",
        "Nodes Expanded= 401\n",
        "-----------------------\n",
        "-------\n",
        "[('0127564391011813141512', 'rrdruldrdd', 18), ('2504173896101113141512', 'dluldrdrrd', 33), ('1234906713511814101512', 'rrddllulurddlurulddrruldlurrdluldrrr', 401)]\n",
        "\n",
        "#4x4 10 Steps\n",
        "['d', 'l', 'l', 'l', 'd', 'r', 'u', 'r', 'r', 'd', 'l', 'u', 'l', 'd', 'r', 'r']\n",
        "-----------------------\n",
        "[1, 2, 3, 4, 5, 6, 7, 0, 10, 11, 14, 8, 9, 13, 15, 12]\n",
        "\n",
        "[1, 2, 3, 4, 5, 6, 7, 8, 9, 10, 11, 12, 13, 14, 15, 0]\n",
        "Length of solution:  16\n",
        "Nodes Expanded= 35\n",
        "-----------------------\n",
        "['r', 'd', 'd', 'l', 'u', 'u', 'r', 'd', 'd', 'd']\n",
        "-----------------------\n",
        "[1, 2, 0, 7, 5, 6, 11, 3, 9, 10, 8, 4, 13, 14, 15, 12]\n",
        "\n",
        "[1, 2, 3, 4, 5, 6, 7, 8, 9, 10, 11, 12, 13, 14, 15, 0]\n",
        "Length of solution:  10\n",
        "Nodes Expanded= 140\n",
        "-----------------------\n",
        "['d', 'd', 'r', 'u', 'r', 'd', 'l', 'l', 'l', 'u', 'r', 'd', 'r', 'r']\n",
        "-----------------------\n",
        "[1, 2, 3, 4, 5, 0, 7, 8, 13, 6, 15, 11, 10, 9, 14, 12]\n",
        "\n",
        "[1, 2, 3, 4, 5, 6, 7, 8, 9, 10, 11, 12, 13, 14, 15, 0]\n",
        "Length of solution:  14\n",
        "Nodes Expanded= 20\n",
        "-----------------------\n",
        "-------\n",
        "[('1234567010111489131512', 'dllldrurrdluldrr', 35), ('1207561139108413141512', 'rddluurddd', 140), ('1234507813615111091412', 'ddrurdlllurdrr', 20)]\n",
        "\n",
        "#4x4 20 Steps\n",
        "['d', 'd', 'd', 'r', 'u', 'l', 'd', 'r', 'r', 'r']\n",
        "-----------------------\n",
        "[0, 2, 3, 4, 1, 6, 7, 8, 5, 13, 11, 12, 10, 9, 14, 15]\n",
        "\n",
        "[1, 2, 3, 4, 5, 6, 7, 8, 9, 10, 11, 12, 13, 14, 15, 0]\n",
        "Length of solution:  10\n",
        "Nodes Expanded= 18\n",
        "-----------------------\n",
        "['d', 'd', 'r', 'r', 'u', 'u', 'l', 'd', 'r', 'd']\n",
        "-----------------------\n",
        "[1, 2, 3, 4, 5, 0, 8, 11, 9, 6, 7, 12, 13, 10, 14, 15]\n",
        "\n",
        "[1, 2, 3, 4, 5, 6, 7, 8, 9, 10, 11, 12, 13, 14, 15, 0]\n",
        "Length of solution:  10\n",
        "Nodes Expanded= 12\n",
        "-----------------------\n",
        "['l', 'd', 'd', 'l', 'd', 'r', 'u', 'r', 'r', 'd']\n",
        "-----------------------\n",
        "[1, 3, 0, 4, 5, 2, 7, 8, 14, 6, 10, 11, 9, 13, 15, 12]\n",
        "\n",
        "[1, 2, 3, 4, 5, 6, 7, 8, 9, 10, 11, 12, 13, 14, 15, 0]\n",
        "Length of solution:  10\n",
        "Nodes Expanded= 113\n",
        "-----------------------\n",
        "-------\n",
        "[('0234167851311121091415', 'dddruldrrr', 18), ('1234508119671213101415', 'ddrruuldrd', 12), ('1304527814610119131512', 'lddldrurrd', 113)]\n",
        "\n",
        "#4x4 40 Steps\n",
        "['l', 'd', 'l', 'd', 'd', 'r', 'r', 'u', 'r', 'd']\n",
        "-----------------------\n",
        "[1, 3, 0, 4, 6, 2, 7, 8, 5, 10, 15, 11, 9, 13, 14, 12]\n",
        "\n",
        "[1, 2, 3, 4, 5, 6, 7, 8, 9, 10, 11, 12, 13, 14, 15, 0]\n",
        "Length of solution:  10\n",
        "Nodes Expanded= 10\n",
        "-----------------------\n",
        "['r', 'u', 'u', 'r', 'd', 'r', 'd', 'l', 'd', 'r']\n",
        "-----------------------\n",
        "[1, 6, 2, 4, 5, 10, 3, 7, 0, 9, 12, 8, 13, 14, 11, 15]\n",
        "\n",
        "[1, 2, 3, 4, 5, 6, 7, 8, 9, 10, 11, 12, 13, 14, 15, 0]\n",
        "Length of solution:  10\n",
        "Nodes Expanded= 10\n",
        "-----------------------\n",
        "['r', 'u', 'r', 'u', 'l', 'l', 'd', 'r', 'r', 'd']\n",
        "-----------------------\n",
        "[1, 2, 3, 4, 5, 7, 8, 11, 9, 6, 15, 10, 13, 0, 14, 12]\n",
        "\n",
        "[1, 2, 3, 4, 5, 6, 7, 8, 9, 10, 11, 12, 13, 14, 15, 0]\n",
        "Length of solution:  10\n",
        "Nodes Expanded= 352\n",
        "-----------------------\n",
        "-------\n",
        "[('1304627851015119131412', 'ldlddrrurd', 10), ('1624510370912813141115', 'ruurdrdldr', 10), ('1234578119615101301412', 'rurulldrrd', 352)]\n",
        "\n",
        "#4x4 80 Steps\n",
        "['r', 'r', 'u', 'l', 'd', 'r', 'u', 'l', 'u', 'r', 'd', 'd']\n",
        "-----------------------\n",
        "[1, 2, 3, 4, 5, 6, 11, 7, 9, 10, 12, 15, 13, 0, 14, 8]\n",
        "\n",
        "[1, 2, 3, 4, 5, 6, 7, 8, 9, 10, 11, 12, 13, 14, 15, 0]\n",
        "Length of solution:  12\n",
        "Nodes Expanded= 50\n",
        "-----------------------\n",
        "['d', 'r', 'u', 'l', 'u', 'l', 'd', 'r', 'r', 'r', 'd', 'd']\n",
        "-----------------------\n",
        "[2, 5, 3, 4, 1, 0, 11, 7, 9, 6, 10, 8, 13, 14, 15, 12]\n",
        "\n",
        "[1, 2, 3, 4, 5, 6, 7, 8, 9, 10, 11, 12, 13, 14, 15, 0]\n",
        "Length of solution:  12\n",
        "Nodes Expanded= 128\n",
        "-----------------------\n",
        "['r', 'r', 'u', 'u', 'l', 'u', 'r', 'd', 'd', 'd']\n",
        "-----------------------\n",
        "[1, 2, 7, 3, 5, 6, 4, 8, 9, 10, 11, 12, 13, 0, 14, 15]\n",
        "\n",
        "[1, 2, 3, 4, 5, 6, 7, 8, 9, 10, 11, 12, 13, 14, 15, 0]\n",
        "Length of solution:  10\n",
        "Nodes Expanded= 16\n",
        "-----------------------\n",
        "-------\n",
        "[('1234561179101215130148', 'rruldrulurdd', 50), ('2534101179610813141512', 'drululdrrrdd', 128), ('1273564891011121301415', 'rruulurddd', 16)]"
      ],
      "metadata": {
        "id": "JzV7lzaWyZSN"
      }
    },
    {
      "cell_type": "code",
      "metadata": {
        "colab": {
          "base_uri": "https://localhost:8080/"
        },
        "id": "rQw9QKTCMvBY",
        "outputId": "9f5f77e8-268c-4ae2-cf88-0686adf63c15"
      },
      "source": [
        "### Best First\n",
        "bestFirstSearchf = lambda n: ManhattanDistance(n.State, GoalState)\n",
        "\n",
        "Solutions = []\n",
        "for s in problemList:\n",
        "  TileSliding.INITIAL = s\n",
        "  ret, cost = BestFirstSearch(TileSliding, bestFirstSearchf)\n",
        "  sol = Solution(ret)\n",
        "  print (sol)\n",
        "  print (\"-----------------------\")\n",
        "  print (TileSliding.INITIAL,'\\n')\n",
        "  print (ApplyMoves(sol, TileSliding.INITIAL))\n",
        "  print (\"Length of solution: \", len(sol))\n",
        "  print (\"Nodes Expanded=\", cost)\n",
        "  print (\"-----------------------\")\n",
        "  Solutions.append((''.join(map(str, s)), ''.join(sol), cost))\n",
        "print (\"-------\")\n",
        "print (Solutions)"
      ],
      "execution_count": 156,
      "outputs": [
        {
          "output_type": "stream",
          "name": "stdout",
          "text": [
            "['r', 'u', 'r', 'd', 'l', 'u', 'u', 'r', 'd', 'd']\n",
            "-----------------------\n",
            "[1, 2, 3, 4, 5, 6, 11, 7, 9, 10, 12, 15, 13, 0, 14, 8] \n",
            "\n",
            "[1, 2, 3, 4, 5, 6, 7, 8, 9, 10, 11, 12, 13, 14, 15, 0]\n",
            "Length of solution:  10\n",
            "Nodes Expanded= 12\n",
            "-----------------------\n",
            "['u', 'l', 'd', 'r', 'd', 'r', 'u', 'r', 'd', 'd']\n",
            "-----------------------\n",
            "[2, 5, 3, 4, 1, 0, 11, 7, 9, 6, 10, 8, 13, 14, 15, 12] \n",
            "\n",
            "[1, 2, 3, 4, 5, 6, 7, 8, 9, 10, 11, 12, 13, 14, 15, 0]\n",
            "Length of solution:  10\n",
            "Nodes Expanded= 10\n",
            "-----------------------\n",
            "['r', 'r', 'u', 'u', 'l', 'u', 'r', 'd', 'd', 'd']\n",
            "-----------------------\n",
            "[1, 2, 7, 3, 5, 6, 4, 8, 9, 10, 11, 12, 13, 0, 14, 15] \n",
            "\n",
            "[1, 2, 3, 4, 5, 6, 7, 8, 9, 10, 11, 12, 13, 14, 15, 0]\n",
            "Length of solution:  10\n",
            "Nodes Expanded= 11\n",
            "-----------------------\n",
            "-------\n",
            "[('1234561179101215130148', 'rurdluurdd', 12), ('2534101179610813141512', 'uldrdrurdd', 10), ('1273564891011121301415', 'rruulurddd', 11)]\n"
          ]
        }
      ]
    },
    {
      "cell_type": "markdown",
      "source": [
        "#Results:\n",
        "#4x4 5 Steps\n",
        "['r', 'r', 'u', 'u', 'l', 'u', 'r', 'd', 'd', 'd']\n",
        "-----------------------\n",
        "[1, 2, 7, 3, 5, 6, 4, 8, 9, 10, 11, 12, 13, 0, 14, 15]\n",
        "\n",
        "[1, 2, 3, 4, 5, 6, 7, 8, 9, 10, 11, 12, 13, 14, 15, 0]\n",
        "Length of solution:  10\n",
        "Nodes Expanded= 11\n",
        "-----------------------\n",
        "['r', 'd', 'd', 'd', 'l', 'l', 'u', 'r', 'r', 'd']\n",
        "-----------------------\n",
        "[1, 2, 0, 3, 5, 6, 7, 4, 9, 14, 10, 8, 13, 15, 12, 11]\n",
        "\n",
        "[1, 2, 3, 4, 5, 6, 7, 8, 9, 10, 11, 12, 13, 14, 15, 0]\n",
        "Length of solution:  10\n",
        "Nodes Expanded= 10\n",
        "-----------------------\n",
        "['u', 'r', 'r', 'd', 'd', 'l', 'l', 'u', 'r', 'd', 'r', 'u', 'l', 'l', 'd', 'r', 'u', 'r', 'd', 'd']\n",
        "-----------------------\n",
        "[1, 6, 2, 3, 5, 0, 11, 4, 9, 7, 10, 8, 13, 14, 15, 12]\n",
        "\n",
        "[1, 2, 3, 4, 5, 6, 7, 8, 9, 10, 11, 12, 13, 14, 15, 0]\n",
        "Length of solution:  20\n",
        "Nodes Expanded= 201\n",
        "-----------------------\n",
        "-------\n",
        "[('1273564891011121301415', 'rruulurddd', 11), ('1203567491410813151211', 'rdddllurrd', 10), ('1623501149710813141512', 'urrddllurdrulldrurdd', 201)]\n",
        "\n",
        "#4x4 10 Steps\n",
        "['u', 'r', 'r', 'd', 'l', 'd', 'l', 'd', 'r', 'r']\n",
        "-----------------------\n",
        "[1, 6, 2, 3, 5, 0, 8, 4, 9, 11, 7, 12, 13, 10, 14, 15]\n",
        "\n",
        "[1, 2, 3, 4, 5, 6, 7, 8, 9, 10, 11, 12, 13, 14, 15, 0]\n",
        "Length of solution:  10\n",
        "Nodes Expanded= 10\n",
        "-----------------------\n",
        "['d', 'r', 'u', 'u', 'u', 'l', 'd', 'r', 'd', 'd']\n",
        "-----------------------\n",
        "[1, 2, 4, 7, 5, 6, 3, 8, 9, 10, 0, 12, 13, 14, 11, 15]\n",
        "\n",
        "[1, 2, 3, 4, 5, 6, 7, 8, 9, 10, 11, 12, 13, 14, 15, 0]\n",
        "Length of solution:  10\n",
        "Nodes Expanded= 12\n",
        "-----------------------\n",
        "['l', 'l', 'd', 'd', 'r', 'u', 'r', 'd', 'r', 'd']\n",
        "-----------------------\n",
        "[2, 3, 0, 4, 1, 10, 6, 8, 5, 9, 7, 11, 13, 14, 15, 12]\n",
        "\n",
        "[1, 2, 3, 4, 5, 6, 7, 8, 9, 10, 11, 12, 13, 14, 15, 0]\n",
        "Length of solution:  10\n",
        "Nodes Expanded= 10\n",
        "-----------------------\n",
        "-------\n",
        "[('1623508491171213101415', 'urrdldldrr', 10), ('1247563891001213141115', 'druuuldrdd', 12), ('2304110685971113141512', 'llddrurdrd', 10)]\n",
        "\n",
        "#4x4 20 Steps\n",
        "['d', 'd', 'l', 'l', 'u', 'l', 'd', 'r', 'r', 'r']\n",
        "-----------------------\n",
        "[1, 2, 3, 4, 5, 6, 7, 0, 10, 13, 11, 8, 9, 14, 15, 12]\n",
        "\n",
        "[1, 2, 3, 4, 5, 6, 7, 8, 9, 10, 11, 12, 13, 14, 15, 0]\n",
        "Length of solution:  10\n",
        "Nodes Expanded= 12\n",
        "-----------------------\n",
        "['r', 'u', 'u', 'l', 'l', 'd', 'd', 'r', 'r', 'd']\n",
        "-----------------------\n",
        "[1, 3, 4, 8, 5, 2, 7, 11, 9, 6, 0, 10, 13, 14, 15, 12]\n",
        "\n",
        "[1, 2, 3, 4, 5, 6, 7, 8, 9, 10, 11, 12, 13, 14, 15, 0]\n",
        "Length of solution:  10\n",
        "Nodes Expanded= 10\n",
        "-----------------------\n",
        "['d', 'r', 'r', 'r', 'u', 'u', 'l', 'd', 'r', 'd']\n",
        "-----------------------\n",
        "[1, 2, 3, 4, 5, 6, 8, 11, 0, 10, 7, 12, 9, 13, 14, 15]\n",
        "\n",
        "[1, 2, 3, 4, 5, 6, 7, 8, 9, 10, 11, 12, 13, 14, 15, 0]\n",
        "Length of solution:  10\n",
        "Nodes Expanded= 10\n",
        "-----------------------\n",
        "-------\n",
        "[('1234567010131189141512', 'ddlluldrrr', 12), ('1348527119601013141512', 'ruullddrrd', 10), ('1234568110107129131415', 'drrruuldrd', 10)]\n",
        "\n",
        "#4x4 40 Steps\n",
        "['l', 'u', 'l', 'u', 'l', 'd', 'd', 'r', 'r', 'r']\n",
        "-----------------------\n",
        "[1, 2, 3, 4, 6, 10, 7, 8, 5, 11, 14, 12, 9, 13, 15, 0]\n",
        "\n",
        "[1, 2, 3, 4, 5, 6, 7, 8, 9, 10, 11, 12, 13, 14, 15, 0]\n",
        "Length of solution:  10\n",
        "Nodes Expanded= 11\n",
        "-----------------------\n",
        "['l', 'u', 'u', 'u', 'r', 'r', 'd', 'r', 'd', 'd']\n",
        "-----------------------\n",
        "[5, 1, 2, 4, 9, 6, 3, 7, 13, 10, 11, 8, 14, 0, 15, 12]\n",
        "\n",
        "[1, 2, 3, 4, 5, 6, 7, 8, 9, 10, 11, 12, 13, 14, 15, 0]\n",
        "Length of solution:  10\n",
        "Nodes Expanded= 10\n",
        "-----------------------\n",
        "['l', 'l', 'd', 'd', 'r', 'd', 'r', 'u', 'r', 'd']\n",
        "-----------------------\n",
        "[2, 3, 0, 4, 1, 6, 7, 8, 5, 9, 15, 11, 13, 10, 14, 12]\n",
        "\n",
        "[1, 2, 3, 4, 5, 6, 7, 8, 9, 10, 11, 12, 13, 14, 15, 0]\n",
        "Length of solution:  10\n",
        "Nodes Expanded= 10\n",
        "-----------------------\n",
        "-------\n",
        "[('1234610785111412913150', 'lululddrrr', 11), ('5124963713101181401512', 'luuurrdrdd', 10), ('2304167859151113101412', 'llddrdrurd', 10)]\n",
        "\n",
        "#4x4 80 Steps\n",
        "['r', 'u', 'r', 'd', 'l', 'u', 'u', 'r', 'd', 'd']\n",
        "-----------------------\n",
        "[1, 2, 3, 4, 5, 6, 11, 7, 9, 10, 12, 15, 13, 0, 14, 8]\n",
        "\n",
        "[1, 2, 3, 4, 5, 6, 7, 8, 9, 10, 11, 12, 13, 14, 15, 0]\n",
        "Length of solution:  10\n",
        "Nodes Expanded= 12\n",
        "-----------------------\n",
        "['u', 'l', 'd', 'r', 'd', 'r', 'u', 'r', 'd', 'd']\n",
        "-----------------------\n",
        "[2, 5, 3, 4, 1, 0, 11, 7, 9, 6, 10, 8, 13, 14, 15, 12]\n",
        "\n",
        "[1, 2, 3, 4, 5, 6, 7, 8, 9, 10, 11, 12, 13, 14, 15, 0]\n",
        "Length of solution:  10\n",
        "Nodes Expanded= 10\n",
        "-----------------------\n",
        "['r', 'r', 'u', 'u', 'l', 'u', 'r', 'd', 'd', 'd']\n",
        "-----------------------\n",
        "[1, 2, 7, 3, 5, 6, 4, 8, 9, 10, 11, 12, 13, 0, 14, 15]\n",
        "\n",
        "[1, 2, 3, 4, 5, 6, 7, 8, 9, 10, 11, 12, 13, 14, 15, 0]\n",
        "Length of solution:  10\n",
        "Nodes Expanded= 11\n",
        "-----------------------\n",
        "-------\n",
        "[('1234561179101215130148', 'rurdluurdd', 12), ('2534101179610813141512', 'uldrdrurdd', 10), ('1273564891011121301415', 'rruulurddd', 11)]"
      ],
      "metadata": {
        "id": "7EtOoOd-wMEA"
      }
    },
    {
      "cell_type": "markdown",
      "metadata": {
        "id": "TFLhS5QmxRz2"
      },
      "source": [
        "# Domain 2"
      ]
    },
    {
      "cell_type": "code",
      "metadata": {
        "id": "PqDD8fsrxXK7"
      },
      "source": [
        "VectorWorldDim = 10\n",
        "VectorWorld = Problem()\n",
        "VectorWorld.INITIAL = [0]\n",
        "VectorWorld.IsGoal = lambda s: s==[3,] or s==(3,)\n",
        "VectorWorld.Actions = lambda s: ['Left', 'Right']\n",
        "## TileSliding.Result=VectorWorldResult\n",
        "VectorWorld.ActionCost = lambda s, a, sPrime: 1"
      ],
      "execution_count": 175,
      "outputs": []
    },
    {
      "cell_type": "code",
      "metadata": {
        "id": "uWNR8AQJyCN7"
      },
      "source": [
        "def VectorWorldResult(state, action):\n",
        "  if action=='Left':\n",
        "    return [(state[0]+VectorWorldDim-1)%VectorWorldDim]\n",
        "  else:\n",
        "    return [(state[0]+1)%VectorWorldDim]\n",
        "VectorWorld.Result=VectorWorldResult\n"
      ],
      "execution_count": 176,
      "outputs": []
    },
    {
      "cell_type": "code",
      "metadata": {
        "colab": {
          "base_uri": "https://localhost:8080/"
        },
        "id": "Ox26cyPP2xba",
        "outputId": "eb51621b-6829-49f7-d5ac-f3b62c18c584"
      },
      "source": [
        "print (VectorWorld.IsGoal((3,)))"
      ],
      "execution_count": 177,
      "outputs": [
        {
          "output_type": "stream",
          "name": "stdout",
          "text": [
            "True\n"
          ]
        }
      ]
    },
    {
      "cell_type": "code",
      "metadata": {
        "colab": {
          "base_uri": "https://localhost:8080/"
        },
        "id": "SBfeM9Vbykci",
        "outputId": "194c51ac-2d08-4a8b-889c-90d28d6b91e5"
      },
      "source": [
        "ret, cost = BreadthFirstSearch(VectorWorld)\n",
        "print (\"ret=\", ret)\n",
        "sol = Solution(ret)\n",
        "print (sol)\n"
      ],
      "execution_count": 178,
      "outputs": [
        {
          "output_type": "stream",
          "name": "stdout",
          "text": [
            "ret= [3], Right\n",
            "['Right', 'Right', 'Right']\n"
          ]
        }
      ]
    },
    {
      "cell_type": "code",
      "metadata": {
        "id": "dAbJ75Ym4WmP"
      },
      "source": [
        "VectorWorld.INITIAL = [8]"
      ],
      "execution_count": 179,
      "outputs": []
    },
    {
      "cell_type": "code",
      "metadata": {
        "colab": {
          "base_uri": "https://localhost:8080/"
        },
        "id": "QGO1VglP4Zq6",
        "outputId": "88762899-d7c8-40f4-cec0-240fea593585"
      },
      "source": [
        "ret, cost = BreadthFirstSearch(VectorWorld)\n",
        "print (\"ret=\", ret)\n",
        "sol = Solution(ret)\n",
        "print (sol)"
      ],
      "execution_count": 180,
      "outputs": [
        {
          "output_type": "stream",
          "name": "stdout",
          "text": [
            "ret= [3], Left\n",
            "['Left', 'Left', 'Left', 'Left', 'Left']\n"
          ]
        }
      ]
    },
    {
      "cell_type": "markdown",
      "source": [
        "#Explanation of Results\n",
        "For the following with 4x4 problems:\n",
        "\n",
        "* Breadth First Search generally had many nodes expanded for every problem, with a slight decrease when increasing the step amount. Overall, this searching algorithm was consistently slow in searching, but did show improvements with more steps.\n",
        "\n",
        "* Uniform Cost Search showed incredibly slow performance, searching upwards of 5000 nodes, only slightly decreasing with an increase of steps.\n",
        "\n",
        "* AStar using ManhattanDistance showed to have very little nodes expanded (10-20) for every step increment. There seemed to be a decline in performance when increasing step count, but this could be because of a lack of test cases.\n",
        "\n",
        "* AStar using OutOfPlace demonstrated similar performance for lower step counts, but fluctuated from 10 to 50. With 80 steps, more nodes were expanded for every problem.\n",
        "\n",
        "* Best First Search (Greedy) demonstrated the most inconsistent performance with some finding solutions within 10 nodes expanded, and other times, with a few hundred nodes expanded.\n",
        "\n",
        "* Best First (with Manhattan Distance) demonstrated the best performance of all the searching algorithms, with the most consistent least nodes searched for all step increments. At 5 steps, it showed some fluctuation from 10 to several hundred nodes, similarly to the Greedy algorithm. However, at 10 and beyond steps, it showed to be very consistent in low node counts.\n",
        "\n",
        "\n",
        "These findings highlight a fundamental principle in artificial intelligence: heuristic-driven search is crucial for solving complex problems efficiently. As the size and complexity of a problem increase, uninformed strategies like Breadth-First Search become computationally impractical due to the exponential growth of the search space. In contrast, informed algorithms such as A* or Greedy Best-First Search remain viable because they use heuristics to guide the search more intelligently—provided those heuristics are well-designed and appropriate for the problem domain. This insight is highly applicable to real-world AI challenges, where the complexity often resembles that of larger puzzles like the 4x4 version. Ultimately, the effectiveness and scalability of an AI system depend significantly on selecting the right search algorithm and developing heuristics tailored to the specific task."
      ],
      "metadata": {
        "id": "WbXZ7mvQzVQk"
      }
    }
  ]
}